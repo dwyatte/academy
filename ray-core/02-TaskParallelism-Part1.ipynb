{
 "cells": [
  {
   "cell_type": "markdown",
   "metadata": {},
   "source": [
    "# Ray Concepts - Task Parallelism (Part 1)\n",
    "\n",
    "Now let's explore Ray's core concepts and understand how they work. As much as possible, Ray tries to leverage familiar Python idioms, extending them as necessary.\n",
    "\n",
    "This lesson covers how to define Ray _tasks_, run them, and retrieve the results. We'll also end with an optional section to help you understand how Ray schedules tasks in a distributed environment.\n",
    "\n",
    "The next lesson will complete the discussion of Ray tasks by exploring how task dependencies are handled and look under the hood at Ray's architecture and runtime behavior."
   ]
  },
  {
   "cell_type": "markdown",
   "metadata": {},
   "source": [
    "First, we need to import `ray` and we'll also import the `time` API. (If you get an error in the next cell, make sure you set up the tutorial as described in the project [README](../README.md).\n",
    "\n",
    "> **Tip:** The [Ray Package Reference](https://ray.readthedocs.io/en/latest/package-ref.html) in the [Ray Docs](https://ray.readthedocs.io/en/latest/) is useful for exploring the API features we'll learn."
   ]
  },
  {
   "cell_type": "code",
   "execution_count": null,
   "metadata": {},
   "outputs": [],
   "source": [
    "# If you are running on Google Colab, uncomment and run the following linkes\n",
    "# to install the necessary dependencies.\n",
    "\n",
    "# print(\"Setting up colab environment\")\n",
    "# !pip install -q ray"
   ]
  },
  {
   "cell_type": "code",
   "execution_count": 2,
   "metadata": {},
   "outputs": [],
   "source": [
    "import ray, time, sys"
   ]
  },
  {
   "cell_type": "markdown",
   "metadata": {},
   "source": [
    "Here are some convenience functions `pnd()` and `pd()` for printing a number and time duration or a number, respectively. They also take an optional `prefix` argument for the beginning of the line."
   ]
  },
  {
   "cell_type": "code",
   "execution_count": 3,
   "metadata": {},
   "outputs": [],
   "source": [
    "def pnd(n, duration, prefix=''):\n",
    "    \"\"\"Print an integer and a time duration, with an optional prefix.\"\"\"\n",
    "    prefix2 = prefix if len(prefix) == 0 else prefix+' '\n",
    "    print('{:s}n: {:2d}, duration: {:6.3f} seconds'.format(prefix2, n, duration))\n",
    "\n",
    "def pd(duration, prefix=''):\n",
    "    \"\"\"Print a time duration, with an optional prefix.\"\"\"\n",
    "    prefix2 = prefix if len(prefix) == 0 else prefix+' '\n",
    "    print('{:s}duration: {:6.3f} seconds'.format(prefix2, duration))"
   ]
  },
  {
   "cell_type": "markdown",
   "metadata": {},
   "source": [
    "Now consider the following Python function, where we simulate doing something that's slow to complete, using the `sleep` method. A real world example might do a complex calculation (like a training step for machine learning) or call an external web service where a response could take many milliseconds. We'll use more interesting examples later."
   ]
  },
  {
   "cell_type": "code",
   "execution_count": 4,
   "metadata": {},
   "outputs": [],
   "source": [
    "def expensive(n):\n",
    "    start = time.time()       # Let's time how long this takes.\n",
    "    time.sleep(n)             # Sleep for n seconds\n",
    "    return (n, time.time() - start)   # Return n and the duration in seconds"
   ]
  },
  {
   "cell_type": "code",
   "execution_count": 5,
   "metadata": {},
   "outputs": [
    {
     "name": "stdout",
     "output_type": "stream",
     "text": [
      "n:  2, duration:  2.000 seconds\n"
     ]
    }
   ],
   "source": [
    "(n, duration) = expensive(2)\n",
    "pnd(n, duration)"
   ]
  },
  {
   "cell_type": "markdown",
   "metadata": {},
   "source": [
    "You should see the output `n: 2, duration: 2.00X seconds`, where `X` is an integer. As we might expect, it took about two seconds to execute.\n",
    "\n",
    "Now suppose we need to fire off five of these at once:"
   ]
  },
  {
   "cell_type": "code",
   "execution_count": 6,
   "metadata": {},
   "outputs": [
    {
     "name": "stdout",
     "output_type": "stream",
     "text": [
      "n:  0, duration:  0.000 seconds\n",
      "n:  1, duration:  1.002 seconds\n",
      "n:  2, duration:  2.001 seconds\n",
      "n:  3, duration:  3.001 seconds\n",
      "n:  4, duration:  4.005 seconds\n",
      "Total time: duration: 10.009 seconds\n"
     ]
    }
   ],
   "source": [
    "start_all = time.time()\n",
    "for n in range(5):\n",
    "    n2, duration = expensive(n)\n",
    "    pnd(n, duration)\n",
    "pd(time.time() - start_all, prefix=\"Total time:\")"
   ]
  },
  {
   "cell_type": "markdown",
   "metadata": {},
   "source": [
    "It takes about 10 seconds to run, because we do this process _synchronously_, but we don't need to do this. Each call to `expensive()` is independent of the others, so ideally we should run them in _parallel_, i.e., _asynchronously_, so all of them finish more quickly.\n",
    "\n",
    "Ray makes this easy. Let's define a new function and annotate it with `@ray.remote` ([documentation](https://ray.readthedocs.io/en/latest/package-ref.html#ray.remote)). In Ray terminology, the annotation converts the function to a _task_, because we'll now be able to let Ray schedule this \"task\" (i.e., unit of work) on any CPU core in our laptop or in our cluster when we use one.\n",
    "\n",
    "> **Key Point:** Annotating a function with `@ray.remote` turns it into a remote _task_."
   ]
  },
  {
   "cell_type": "code",
   "execution_count": 7,
   "metadata": {},
   "outputs": [],
   "source": [
    "@ray.remote\n",
    "def expensive_task(n):\n",
    "    return expensive(n)"
   ]
  },
  {
   "cell_type": "markdown",
   "metadata": {},
   "source": [
    "Note that we could simply call `expensive()`, we don't have to redefine it.\n",
    "\n",
    "Now when we invoke `expensive_task`, we have to use `expensive_task.remote(n)` instead of `expensive_task(n)`, like before. Python is malleable; the Ray team could have instrumented `expensive_task` so that we can call it like a normal function, but the explicit `.remote` is reminder to the reader what code is using Ray vs. normal Python code.\n",
    "\n",
    "Okay, let's try the same loop as before. But first, we have to initialize Ray with `ray.init()` ([documentation](https://ray.readthedocs.io/en/latest/package-ref.html#ray.init)). There are optional key-value pairs you can provide. We'll explore many of them later, but for now, we'll just pass an option that allows us to re-initialize Ray without triggering an error. It would be useful if you decided to reevalute the following cell for some reason."
   ]
  },
  {
   "cell_type": "code",
   "execution_count": 8,
   "metadata": {},
   "outputs": [
    {
     "name": "stderr",
     "output_type": "stream",
     "text": [
      "2020-04-14 11:35:01,024\tINFO resource_spec.py:212 -- Starting Ray with 12.79 GiB memory available for workers and up to 6.41 GiB for objects. You can adjust these settings with ray.init(memory=<bytes>, object_store_memory=<bytes>).\n",
      "2020-04-14 11:35:01,346\tINFO services.py:1148 -- View the Ray dashboard at \u001b[1m\u001b[32mlocalhost:8265\u001b[39m\u001b[22m\n"
     ]
    },
    {
     "data": {
      "text/plain": [
       "{'node_ip_address': '192.168.1.102',\n",
       " 'redis_address': '192.168.1.102:57581',\n",
       " 'object_store_address': '/tmp/ray/session_2020-04-14_11-35-01_014711_50605/sockets/plasma_store',\n",
       " 'raylet_socket_name': '/tmp/ray/session_2020-04-14_11-35-01_014711_50605/sockets/raylet',\n",
       " 'webui_url': 'localhost:8265',\n",
       " 'session_dir': '/tmp/ray/session_2020-04-14_11-35-01_014711_50605'}"
      ]
     },
     "execution_count": 8,
     "metadata": {},
     "output_type": "execute_result"
    }
   ],
   "source": [
    "ray.init(ignore_reinit_error=True)"
   ]
  },
  {
   "cell_type": "markdown",
   "metadata": {},
   "source": [
    "> **Troubleshooting**\n",
    ">\n",
    "> 1. If you get an error like `... INFO services.py:... -- Failed to connect to the redis server, retrying.`, it probably means you are running a VPN on your machine. [At this time](https://github.com/ray-project/ray/issues/6573), you can't use `ray.init()` with a VPN running. You'll have to stop your VPN to run `ray.init()`, then once it finishes, you can restart your VPN.\n",
    "> \n",
    "> 2. If `ray.init()` worked (for example, you see a message like _View the Ray dashboard at localhost:8265_) and you're using a Mac, you may get several annoying dialogs asking you if you want to allow incoming connections for `python` and/or `redis-server`. Click \"Accept\" for each one and they shouldn't appear again during this lesson. MacOS is trying to verify if these executables have been properly signed. Ray uses Redis. If you installed Python using Anaconda or other mechanism, then it probably isn't properly signed from the point of view of MacOS. To permanently fix this problem, [see this StackExchange post](https://apple.stackexchange.com/questions/3271/how-to-get-rid-of-firewall-accept-incoming-connections-dialog)."
   ]
  },
  {
   "cell_type": "markdown",
   "metadata": {},
   "source": [
    "If `ray.init()` worked successfully, you'll see a JSON block with information such as the `node_ip_address` and `webui_rul`. \n",
    "\n",
    "A separate message tells you that URL is for the [Ray Dashboard](https://ray.readthedocs.io/en/latest/ray-dashboard.html#ray-dashboard). Open it now in a separate browser tab. It should look something like this:\n",
    "![Ray Dashboard screenshot](../images/Ray-Dashboard.png)"
   ]
  },
  {
   "cell_type": "markdown",
   "metadata": {},
   "source": [
    "> **Tip:** You can ask Ray for this URL later if needed. Use `ray.get_webui_url()`.\n",
    "> \n",
    "> **Note:** There are many options you can pass to `ray.init()`. See the [ray.init](https://ray.readthedocs.io/en/latest/package-ref.html#ray.init) and [configuration](https://ray.readthedocs.io/en/latest/configure.html) documentation for details, some of which we'll explore in later lessons."
   ]
  },
  {
   "cell_type": "markdown",
   "metadata": {},
   "source": [
    "My laptop has four cores, each of which has a hardware _thread_, for a total of eight. Ray started a `ray` worker process for each hardware thread. These workers are used to run tasks. Click around the dashboard, especially when we run tasks like we're about to do. We'll explore the dashboard more later on. Many laptops have eight cores, so if you may see 16 ray processes.\n",
    "\n",
    "Now let's run our new Ray task!"
   ]
  },
  {
   "cell_type": "code",
   "execution_count": 9,
   "metadata": {},
   "outputs": [
    {
     "data": {
      "text/plain": [
       "ObjectID(45b95b1c8bd3a9c4ffffffff010000c801000000)"
      ]
     },
     "execution_count": 9,
     "metadata": {},
     "output_type": "execute_result"
    }
   ],
   "source": [
    "expensive_task.remote(2)"
   ]
  },
  {
   "cell_type": "markdown",
   "metadata": {},
   "source": [
    "What's this `ObjectID` thing? Recall that `expensive()` returned `(n, seconds)`. Now, when we invoke a task, it will be executed _asynchronously_, so instead of the tuple we will eventually want, we get a reference to a Python [Future](https://docs.python.org/3/library/asyncio-future.html), which we'll use to retrieve the tuple when the task has completed. One way to do this is to use `ray.get()` ([documentation](https://ray.readthedocs.io/en/latest/package-ref.html#ray.get)). So, let's modify our previous loop to use the task and retrieve the values using the futures.\n",
    "\n",
    "> **Key Point:** You call a task with `mytask.remote(...)`. It immediately returns with an ID for a future that you'll use to access the result of the task, after it finishes."
   ]
  },
  {
   "cell_type": "code",
   "execution_count": 10,
   "metadata": {},
   "outputs": [
    {
     "name": "stdout",
     "output_type": "stream",
     "text": [
      "n:  0, duration:  0.000 seconds\n",
      "n:  1, duration:  1.002 seconds\n",
      "n:  2, duration:  2.002 seconds\n",
      "n:  3, duration:  3.004 seconds\n",
      "n:  4, duration:  4.004 seconds\n",
      "Total time: duration: 10.395 seconds\n"
     ]
    }
   ],
   "source": [
    "start_all = time.time()\n",
    "for n in range(5):\n",
    "    id = expensive_task.remote(n)  # Call the remote task\n",
    "    n2, duration = ray.get(id)     # Retrieve the value using the future\n",
    "    pnd(n, duration)\n",
    "pd(time.time() - start_all, prefix=\"Total time:\")"
   ]
  },
  {
   "cell_type": "markdown",
   "metadata": {},
   "source": [
    "Shouldn't Ray make everything go faster? The performance is the same! \n",
    "\n",
    "The reason is because we used `ray.get()` incorrectly. This is a _blocking call_; we're telling Ray, \"I need the value and I'm going to wait until the task is done and you can return it to me.\" This blocking call in the loop defeats the goal of leveraging asynchrony.\n",
    "\n",
    "Instead, we need to \"fire off\" all the asynchronous calls, building up a list of futures, then wait for all of them at once. We'll do that as follows, where for this purposes we'll introduce a list comprehension to call the tasks:"
   ]
  },
  {
   "cell_type": "code",
   "execution_count": 11,
   "metadata": {},
   "outputs": [
    {
     "name": "stdout",
     "output_type": "stream",
     "text": [
      "n:  0, duration:  0.001 seconds\n",
      "n:  1, duration:  0.002 seconds\n",
      "n:  2, duration:  0.002 seconds\n",
      "n:  3, duration:  0.003 seconds\n",
      "n:  4, duration:  0.004 seconds\n",
      "Calling ray.get:\n",
      "n:  0, duration:  0.000 seconds\n",
      "n:  1, duration:  1.005 seconds\n",
      "n:  2, duration:  2.001 seconds\n",
      "n:  3, duration:  3.004 seconds\n",
      "n:  4, duration:  4.001 seconds\n",
      "Total time: duration:  4.006 seconds\n"
     ]
    }
   ],
   "source": [
    "start_all = time.time()\n",
    "ids = []\n",
    "for n in range(5):\n",
    "    id = expensive_task.remote(n)\n",
    "    ids.append(id)\n",
    "    pnd(n, time.time() - start_all)\n",
    "\n",
    "print('Calling ray.get:')\n",
    "for n2, duration in ray.get(ids):    # Retrieve all the values for a list of futures\n",
    "    pnd(n2, duration)\n",
    "pd(time.time() - start_all, prefix=\"Total time:\")"
   ]
  },
  {
   "cell_type": "markdown",
   "metadata": {},
   "source": [
    "Notice what happened. In the first loop, when we called `expensive_task.remote(n)`, each call returned immediately, so the \"durations\" were tiny. Then you probably noticed that nothing happend for about four seconds, then suddenly everything was printed, for a total elapsed time of about four seconds. \n",
    "\n",
    "Why four? When we pass a list of futures to `ray.get()`, it blocks until the results are available for _all_ of them. Our longest task was four seconds, so once that one finished, the others were already done and all could be returned immediately."
   ]
  },
  {
   "cell_type": "markdown",
   "metadata": {},
   "source": [
    "Run the next cell, which is basically the same calculation, but it uses a more idiomatic list comprehension for the `expensive_task` invocations and doesn't log the times for those calls, as we now know these times are trivial.\n",
    "\n",
    "**However**, as soon as the call starts, switch to the Ray Dashboard browser tab and watch what happens. You'll notice instances of `expensive_task` being executed by the different `ray` processes. You might try using a larger number than `5` so it's easier to watch."
   ]
  },
  {
   "cell_type": "code",
   "execution_count": 12,
   "metadata": {},
   "outputs": [
    {
     "name": "stdout",
     "output_type": "stream",
     "text": [
      "n:  0, duration:  0.000 seconds\n",
      "n:  1, duration:  1.003 seconds\n",
      "n:  2, duration:  2.000 seconds\n",
      "n:  3, duration:  3.004 seconds\n",
      "n:  4, duration:  4.004 seconds\n",
      "Total time: duration:  4.009 seconds\n"
     ]
    }
   ],
   "source": [
    "start_all = time.time()\n",
    "ids = [expensive_task.remote(n) for n in range(5)]  # Fire off the asynchronous tasks\n",
    "for n2, duration in ray.get(ids):                   # Retrieve all the values from the list of futures\n",
    "    pnd(n2, duration)\n",
    "pd(time.time() - start_all, prefix=\"Total time:\")"
   ]
  },
  {
   "cell_type": "markdown",
   "metadata": {},
   "source": [
    "## Exercise 1\n",
    "\n",
    "Let's make sure you understand how to use Ray's task parallelism. In the following two cells, we define a new Python function and then use it several times to perform work. Modify both cells to use Ray. The third cell uses `assert` statements to check your work.\n",
    "\n",
    "> **Tip:** The solution is in the `solutions` folder."
   ]
  },
  {
   "cell_type": "code",
   "execution_count": 13,
   "metadata": {},
   "outputs": [],
   "source": [
    "def slow_square(n):\n",
    "    time.sleep(n)\n",
    "    return n*n"
   ]
  },
  {
   "cell_type": "code",
   "execution_count": 14,
   "metadata": {},
   "outputs": [],
   "source": [
    "@ray.remote\n",
    "def fast_square(n):\n",
    "    return slow_square(n)"
   ]
  },
  {
   "cell_type": "code",
   "execution_count": 15,
   "metadata": {},
   "outputs": [],
   "source": [
    "start = time.time()\n",
    "squares = [fast_square.remote(n) for n in range(4)]\n",
    "squares = [s for s in ray.get(squares)]\n",
    "duration = time.time() - start"
   ]
  },
  {
   "cell_type": "code",
   "execution_count": 16,
   "metadata": {},
   "outputs": [],
   "source": [
    "assert squares == [0, 1, 4, 9], f'Did you retrieve the objects using the ids? squares = {squares}'\n",
    "assert duration < 4.1, f'Did you exploit Ray parallelism? The duration is too long: {duration} seconds' "
   ]
  },
  {
   "cell_type": "markdown",
   "metadata": {},
   "source": [
    "## A Closer Look at Scheduling\n",
    "\n",
    "> **Note:** If you just want to learn the Ray API, you can safely skip the rest of this lesson (notebook) for now. It begins our exploration of how Ray works internally. However, you should come back to it at some point, so you'll develop a better understanding of how Ray works."
   ]
  },
  {
   "cell_type": "markdown",
   "metadata": {},
   "source": [
    "To better see what's happening with the dashboard, run the following cells to determine the number of CPU hardware threads on your laptop, each of which is running a `ray` process. We've expanded this code over several cells so you can see what each step returns, but you could write it all at once, `num_cpus = ray.nodes()[0]['Resources']['CPU']`."
   ]
  },
  {
   "cell_type": "code",
   "execution_count": 17,
   "metadata": {},
   "outputs": [
    {
     "data": {
      "text/plain": [
       "[{'NodeID': 'cc7a4b4a6162aaa5e3bfb8bf9b09ebcf2f36a613',\n",
       "  'Alive': True,\n",
       "  'NodeManagerAddress': '192.168.1.102',\n",
       "  'NodeManagerHostname': 'setzer.hsd1.co.comcast.net',\n",
       "  'NodeManagerPort': 58277,\n",
       "  'ObjectManagerPort': 58335,\n",
       "  'ObjectStoreSocketName': '/tmp/ray/session_2020-04-14_11-35-01_014711_50605/sockets/plasma_store',\n",
       "  'RayletSocketName': '/tmp/ray/session_2020-04-14_11-35-01_014711_50605/sockets/raylet',\n",
       "  'Resources': {'object_store_memory': 90.0,\n",
       "   'node:192.168.1.102': 1.0,\n",
       "   'CPU': 12.0,\n",
       "   'memory': 262.0},\n",
       "  'alive': True}]"
      ]
     },
     "execution_count": 17,
     "metadata": {},
     "output_type": "execute_result"
    }
   ],
   "source": [
    "import json\n",
    "nodes = ray.nodes()  # Get a JSON object with metadata about all the nodes in your \"cluster\".\n",
    "nodes                # On your laptop, a list with one node."
   ]
  },
  {
   "cell_type": "code",
   "execution_count": 18,
   "metadata": {},
   "outputs": [
    {
     "data": {
      "text/plain": [
       "{'NodeID': 'cc7a4b4a6162aaa5e3bfb8bf9b09ebcf2f36a613',\n",
       " 'Alive': True,\n",
       " 'NodeManagerAddress': '192.168.1.102',\n",
       " 'NodeManagerHostname': 'setzer.hsd1.co.comcast.net',\n",
       " 'NodeManagerPort': 58277,\n",
       " 'ObjectManagerPort': 58335,\n",
       " 'ObjectStoreSocketName': '/tmp/ray/session_2020-04-14_11-35-01_014711_50605/sockets/plasma_store',\n",
       " 'RayletSocketName': '/tmp/ray/session_2020-04-14_11-35-01_014711_50605/sockets/raylet',\n",
       " 'Resources': {'object_store_memory': 90.0,\n",
       "  'node:192.168.1.102': 1.0,\n",
       "  'CPU': 12.0,\n",
       "  'memory': 262.0},\n",
       " 'alive': True}"
      ]
     },
     "execution_count": 18,
     "metadata": {},
     "output_type": "execute_result"
    }
   ],
   "source": [
    "node = nodes[0]    # Get the single node\n",
    "node"
   ]
  },
  {
   "cell_type": "code",
   "execution_count": 19,
   "metadata": {},
   "outputs": [
    {
     "data": {
      "text/plain": [
       "{'object_store_memory': 90.0,\n",
       " 'node:192.168.1.102': 1.0,\n",
       " 'CPU': 12.0,\n",
       " 'memory': 262.0}"
      ]
     },
     "execution_count": 19,
     "metadata": {},
     "output_type": "execute_result"
    }
   ],
   "source": [
    "resources = node['Resources']   # Get the resources for the node\n",
    "resources"
   ]
  },
  {
   "cell_type": "code",
   "execution_count": 20,
   "metadata": {},
   "outputs": [
    {
     "data": {
      "text/plain": [
       "12.0"
      ]
     },
     "execution_count": 20,
     "metadata": {},
     "output_type": "execute_result"
    }
   ],
   "source": [
    "num_cpus = resources['CPU']  # Get the number of CPU hardware threads\n",
    "num_cpus"
   ]
  },
  {
   "cell_type": "markdown",
   "metadata": {},
   "source": [
    "The final number will be `2.0`, `4.0`, `8.0`, `16.0`, etc. The next cell is one of our previous examples of calling `expensive_task`, but now the loop counter is `2*int(num_cpus)` instead of `5`. This will mean that half of the tasks will have to wait for an open slot. Now run the following cell and watch the Ray dashboard. (You'll know the cell is finished when all the `ray` workers return to `IDLE`.)\n",
    "\n",
    "What's the total time now? How about the individual times?"
   ]
  },
  {
   "cell_type": "code",
   "execution_count": 21,
   "metadata": {},
   "outputs": [
    {
     "name": "stdout",
     "output_type": "stream",
     "text": [
      "n:  0, duration:  0.001 seconds\n",
      "n:  1, duration:  0.002 seconds\n",
      "n:  2, duration:  0.003 seconds\n",
      "n:  3, duration:  0.004 seconds\n",
      "n:  4, duration:  0.004 seconds\n",
      "n:  5, duration:  0.004 seconds\n",
      "n:  6, duration:  0.005 seconds\n",
      "n:  7, duration:  0.006 seconds\n",
      "n:  8, duration:  0.007 seconds\n",
      "n:  9, duration:  0.007 seconds\n",
      "n: 10, duration:  0.008 seconds\n",
      "n: 11, duration:  0.011 seconds\n",
      "n: 12, duration:  0.013 seconds\n",
      "n: 13, duration:  0.016 seconds\n",
      "n: 14, duration:  0.020 seconds\n",
      "n: 15, duration:  0.021 seconds\n",
      "n: 16, duration:  0.022 seconds\n",
      "n: 17, duration:  0.022 seconds\n",
      "n: 18, duration:  0.023 seconds\n",
      "n: 19, duration:  0.023 seconds\n",
      "n: 20, duration:  0.024 seconds\n",
      "n: 21, duration:  0.024 seconds\n",
      "n: 22, duration:  0.024 seconds\n",
      "n: 23, duration:  0.025 seconds\n",
      "Calling ray.get:\n",
      "n:  0, duration:  0.000 seconds\n",
      "n:  1, duration:  1.004 seconds\n",
      "n:  2, duration:  2.003 seconds\n",
      "n:  3, duration:  3.003 seconds\n",
      "n:  4, duration:  4.001 seconds\n",
      "n:  5, duration:  5.003 seconds\n",
      "n:  6, duration:  6.003 seconds\n",
      "n:  7, duration:  7.001 seconds\n",
      "n:  8, duration:  8.002 seconds\n",
      "n:  9, duration:  9.003 seconds\n",
      "n: 10, duration: 10.004 seconds\n",
      "n: 11, duration: 11.000 seconds\n",
      "n: 12, duration: 12.003 seconds\n",
      "n: 13, duration: 13.003 seconds\n",
      "n: 14, duration: 14.003 seconds\n",
      "n: 15, duration: 15.000 seconds\n",
      "n: 16, duration: 16.003 seconds\n",
      "n: 17, duration: 17.003 seconds\n",
      "n: 18, duration: 18.004 seconds\n",
      "n: 19, duration: 19.002 seconds\n",
      "n: 20, duration: 20.001 seconds\n",
      "n: 21, duration: 21.001 seconds\n",
      "n: 22, duration: 22.002 seconds\n",
      "n: 23, duration: 23.003 seconds\n",
      "Total time: duration: 34.023 seconds\n"
     ]
    }
   ],
   "source": [
    "start_all = time.time()\n",
    "ids = []\n",
    "for n in range(2*int(num_cpus)):     # What's changed!\n",
    "    id = expensive_task.remote(n)\n",
    "    ids.append(id)\n",
    "    pnd(n, time.time() - start_all)\n",
    "\n",
    "print('Calling ray.get:')\n",
    "for n2, duration in ray.get(ids):    # Retrieve all the values for a list of futures\n",
    "    pnd(n2, duration)\n",
    "pd(time.time() - start_all, prefix=\"Total time:\")"
   ]
  },
  {
   "cell_type": "markdown",
   "metadata": {},
   "source": [
    "On my 8-worker machine, 16 tasks were run.\n",
    "\n",
    "Look at the first set of times, for the submissions. They are still fast and nonblocking, but on my machine they took about ~0.02 seconds to complete, so some competition for CPU time occurred.\n",
    "\n",
    "As before, each asynchronous task still takes roughly `n` seconds to finish (for `n` equals 0 through 15). This makes sense, because each `expensive_task` does essentially nothing but sleep, and since there's only one task per worker, there should be no apreciable difference for the individual times, as before. \n",
    "\n",
    "However, the whole process took about 22 seconds, not 16, as we might have expected from our previous experience (i.e., the time for the longest task). This reflects the fact that half the tasks had to wait for an available worker.\n",
    "\n",
    "In fact, we can explain the 22 seconds exactly. Here is how my 16 tasks, with durations 0 to 15 seconds, were allocated to the 8 workers. Keep in mind that the scheduling happened in order for increasing `n`.\n",
    "\n",
    "The first 8 tasks, of duration 0 to 7 seconds, where scheduled immediately in the 8 available workers. The 0-second task finished immediately, so the next waiting task, the 8-second task was scheduled on that worker. It finished in 8 seconds, so the _total_ time for the 0-second and 8-second tasks was about 8 seconds. Similarly, after the 1-second task finished, the 9-second task was scheduled. Total time: 10 seconds. Using induction ;), the last worker started with the 7-second task followed by the 15-second task for a total of 22 seconds!\n",
    "\n",
    "Here's a table showing this in detail. where `n1` and `n2` refers to the first and second tasks, with durations `n1` seconds and `n2` seconds, for a total of `n1+n2` seconds. For consistency, the `ray` workers are numbered from zero:\n",
    "\n",
    "| Worker | n1 | n2 | Total Time |\n",
    "| -----: | -: | -: | ---------: |\n",
    "| 0 | 0 |  8 |  8 |\n",
    "| 1 | 1 |  9 | 10 |\n",
    "| 2 | 2 | 10 | 12 |\n",
    "| 3 | 3 | 11 | 14 |\n",
    "| 4 | 4 | 12 | 16 |\n",
    "| 5 | 5 | 13 | 18 |\n",
    "| 6 | 6 | 14 | 20 |\n",
    "| 7 | 7 | 15 | 22 |\n",
    "\n"
   ]
  },
  {
   "cell_type": "markdown",
   "metadata": {},
   "source": [
    "If your number of workers is different than 8, try changing the previous table to match your system and see if you get a total-time number in the last row that matches what actually happened. "
   ]
  },
  {
   "cell_type": "markdown",
   "metadata": {},
   "source": [
    "Of course a real-world scheduling scenario would be more complicated, but hopefully you have a better sense of how Ray distributes work, whether you're working on a single laptop or a large cluster!"
   ]
  }
 ],
 "metadata": {
  "kernelspec": {
   "display_name": "Python 3",
   "language": "python",
   "name": "python3"
  },
  "language_info": {
   "codemirror_mode": {
    "name": "ipython",
    "version": 3
   },
   "file_extension": ".py",
   "mimetype": "text/x-python",
   "name": "python",
   "nbconvert_exporter": "python",
   "pygments_lexer": "ipython3",
   "version": "3.7.6"
  },
  "toc": {
   "base_numbering": 1,
   "nav_menu": {},
   "number_sections": false,
   "sideBar": true,
   "skip_h1_title": false,
   "title_cell": "Table of Contents",
   "title_sidebar": "Contents",
   "toc_cell": false,
   "toc_position": {
    "height": "calc(100% - 180px)",
    "left": "10px",
    "top": "150px",
    "width": "382.391px"
   },
   "toc_section_display": true,
   "toc_window_display": true
  }
 },
 "nbformat": 4,
 "nbformat_minor": 4
}
