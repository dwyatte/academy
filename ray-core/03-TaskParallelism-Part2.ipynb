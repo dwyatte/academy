{
 "cells": [
  {
   "cell_type": "markdown",
   "metadata": {},
   "source": [
    "# Ray Concepts - Task Parallelism (Part 2)\n",
    "\n",
    "The previous lesson explored Ray's core concepts and how they work. We learned how to define Ray _tasks_, run them, and retrieve the results. We also started learning about how Ray schedules tasks in a distributed environment.\n",
    "\n",
    "This lesson completes the discussion of Ray tasks by exploring how task dependencies are handled. We'll finish with a look under the hood at Ray's architecture and runtime behavior.\n",
    "\n",
    "> **Tip:** Recall that the [Ray Package Reference](https://ray.readthedocs.io/en/latest/package-ref.html) in the [Ray Docs](https://ray.readthedocs.io/en/latest/) is useful for exploring the API features we'll learn."
   ]
  },
  {
   "cell_type": "code",
   "execution_count": 1,
   "metadata": {},
   "outputs": [],
   "source": [
    "# If you are running on Google Colab, uncomment and run the following linkes\n",
    "# to install the necessary dependencies.\n",
    "\n",
    "# print(\"Setting up colab environment\")\n",
    "# !pip install -q ray\n",
    "# !pip install -q bokeh"
   ]
  },
  {
   "cell_type": "code",
   "execution_count": 2,
   "metadata": {},
   "outputs": [],
   "source": [
    "# Imports and initialize Ray. We're adding NumPy for the examples and the tutorial `util` library:\n",
    "\n",
    "import ray, time, sys    # New notebook, so new process\n",
    "import numpy as np       # Used for examples"
   ]
  },
  {
   "cell_type": "code",
   "execution_count": 3,
   "metadata": {},
   "outputs": [],
   "source": [
    "def pnd(n, duration, prefix=''):\n",
    "    \"\"\"Print an integer and a time duration, with an optional prefix.\"\"\"\n",
    "    prefix2 = prefix if len(prefix) == 0 else prefix+' '\n",
    "    print('{:s}n: {:2d}, duration: {:6.3f} seconds'.format(prefix2, n, duration))\n",
    "\n",
    "def pd(duration, prefix=''):\n",
    "    \"\"\"Print a time duration, with an optional prefix.\"\"\"\n",
    "    prefix2 = prefix if len(prefix) == 0 else prefix+' '\n",
    "    print('{:s}duration: {:6.3f} seconds'.format(prefix2, duration))"
   ]
  },
  {
   "cell_type": "code",
   "execution_count": 4,
   "metadata": {},
   "outputs": [
    {
     "name": "stderr",
     "output_type": "stream",
     "text": [
      "2020-04-14 12:23:18,743\tINFO resource_spec.py:212 -- Starting Ray with 12.89 GiB memory available for workers and up to 6.47 GiB for objects. You can adjust these settings with ray.init(memory=<bytes>, object_store_memory=<bytes>).\n",
      "2020-04-14 12:23:19,074\tINFO services.py:1148 -- View the Ray dashboard at \u001b[1m\u001b[32mlocalhost:8265\u001b[39m\u001b[22m\n"
     ]
    },
    {
     "data": {
      "text/plain": [
       "{'node_ip_address': '192.168.1.102',\n",
       " 'redis_address': '192.168.1.102:52572',\n",
       " 'object_store_address': '/tmp/ray/session_2020-04-14_12-23-18_734034_51466/sockets/plasma_store',\n",
       " 'raylet_socket_name': '/tmp/ray/session_2020-04-14_12-23-18_734034_51466/sockets/raylet',\n",
       " 'webui_url': 'localhost:8265',\n",
       " 'session_dir': '/tmp/ray/session_2020-04-14_12-23-18_734034_51466'}"
      ]
     },
     "execution_count": 4,
     "metadata": {},
     "output_type": "execute_result"
    }
   ],
   "source": [
    "ray.init(ignore_reinit_error=True)"
   ]
  },
  {
   "cell_type": "markdown",
   "metadata": {},
   "source": [
    "Let's work with a new remote function. Previously, our `expensive` and `expensive_task` functions returned tuples that included time durations. Obviously the durations were useful for understanding how long the functions took to execute. Now, it will be more convenient to not return \"metadata\" like this, but just data values that we care about, because we are going to pass them to other functions. \n",
    "\n",
    "Hence, we'll define _dependency_ relationships between tasks. We'll learn how Ray handles these dependent, asynchronous computations.\n",
    "\n",
    "So, let's define a task to return a random NumPy array of some size `n`. As before, we'll add a sleep time, one tenth the size of `n`:"
   ]
  },
  {
   "cell_type": "code",
   "execution_count": 5,
   "metadata": {},
   "outputs": [],
   "source": [
    "@ray.remote\n",
    "def make_array(n):\n",
    "    time.sleep(n/10.0)\n",
    "    return np.random.standard_normal(n)"
   ]
  },
  {
   "cell_type": "markdown",
   "metadata": {},
   "source": [
    "Now define a task that can add two NumPy arrays together. The arrays need to be the same size, but we'll ignore any checking for this requirement."
   ]
  },
  {
   "cell_type": "code",
   "execution_count": 6,
   "metadata": {},
   "outputs": [],
   "source": [
    "@ray.remote\n",
    "def add_arrays(a1, a2):\n",
    "    time.sleep(a1.size/10.0)\n",
    "    return np.add(a1, a2)"
   ]
  },
  {
   "cell_type": "markdown",
   "metadata": {},
   "source": [
    "Now lets use them!"
   ]
  },
  {
   "cell_type": "code",
   "execution_count": 7,
   "metadata": {},
   "outputs": [
    {
     "name": "stdout",
     "output_type": "stream",
     "text": [
      "[ 0.84089999  0.2894145  -0.41857772 -1.7385907  -0.15316508 -0.57480122\n",
      " -0.07055859  0.62629295  0.23034914 -0.46086276  0.13723095  0.32651502\n",
      "  0.0738438  -1.60176748  0.82177929  2.27422636 -0.4728901  -0.20257597\n",
      "  1.96032038 -0.42992837]\n",
      "Total time: duration:  4.446 seconds\n"
     ]
    }
   ],
   "source": [
    "start = time.time()\n",
    "id1 = make_array.remote(20)\n",
    "id2 = make_array.remote(20)\n",
    "id3 = add_arrays.remote(id1, id2)\n",
    "print(ray.get(id3))\n",
    "pd(time.time() - start, prefix=\"Total time:\")"
   ]
  },
  {
   "cell_type": "markdown",
   "metadata": {},
   "source": [
    "Something subtle and \"magical\" happened here; when we called `add_arrays`, we didn't need to call `ray.get()` first for `id1` and `id2`, since `add_arrays` expects NumPy arrays. Because `add_arrays` is a Ray task, Ray automatically does the extraction for us, so we can write code that looks more natural.\n",
    "\n",
    "Furthermore, note that the `add_arrays` task effectively depends on the outputs of the two `make_array` tasks. Ray won't run `add_arrays` until the other tasks are finished. Hence, _Ray handles task dependencies automatically for us._ \n",
    "\n",
    "This is why the elapsed time is about 4 seconds. We used a size of 20, so we slept 2 seconds in each call to `make_array`, but those happened in parallel, _followed_ by a second sleep of 2 seconds in `add_arrays`."
   ]
  },
  {
   "cell_type": "markdown",
   "metadata": {},
   "source": [
    "Recall from the previous lesson that we explored when to call `ray.get()` to avoid forcing tasks to become synchronous when they should be asynchronous. This additional example illustrates two key points:\n",
    "\n",
    "* _Don't ask for results you don't need._\n",
    "* _Don't ask for the results you need until you really need them._\n",
    "\n",
    "We don't need to see the objects for `id1` and `id2`. We only need the final array for `id3`."
   ]
  },
  {
   "cell_type": "markdown",
   "metadata": {},
   "source": [
    "## Using ray.wait() with ray.get()\n",
    "\n",
    "We've seen several examples of the best idiomatic way to use `ray.get()`. Here again is an example from the last lesson:\n",
    "\n",
    "```python\n",
    "start = time.time()\n",
    "ids = [expensive_task.remote(n) for n in range(5)]  # Fire off the asynchronous tasks\n",
    "for n2, duration in ray.get(ids):                   # Retrieve all the values from the list of futures\n",
    "    p(n2, duration)\n",
    "pd(time.time() - start, prefix=\"Total time:\")\n",
    "```\n",
    "\n",
    "Let's try it again with our new methods:"
   ]
  },
  {
   "cell_type": "code",
   "execution_count": 8,
   "metadata": {},
   "outputs": [
    {
     "name": "stdout",
     "output_type": "stream",
     "text": [
      "0: []\n",
      "10: [-1.92797832  1.95260875  0.50021032 -0.4231631   1.74587166 -0.1861977\n",
      " -2.96400132  2.17452547  2.72229121  2.11126325]\n",
      "20: [-3.63185912  0.57926293 -3.36886248  2.1888112   0.68773383  1.03092107\n",
      "  0.10188319 -3.43028407 -0.88879433 -2.07343685  3.19196529  2.30051676\n",
      "  0.05581076 -1.5582634  -1.83461842 -1.2991064  -2.40962068  2.96261424\n",
      "  3.00909633 -0.03967563]\n",
      "30: [ 0.12791515  1.5930508  -0.93510234  3.80467391  1.04781008  1.28471091\n",
      " -1.79131811  0.70796773 -2.92337859  1.28743656 -1.71728633 -0.55546914\n",
      " -1.55260746 -0.66514647  0.17977526  1.45748877 -0.30902416 -3.18517745\n",
      "  1.71314377 -0.13121606  1.71207025 -0.45387761 -0.3392279  -1.65964356\n",
      "  0.9085188  -4.3109494   1.90223857  1.67443224  2.16355263  2.56295073]\n",
      "40: [ 2.79758217 -3.65734333  3.12404525  2.16586443  0.69853902  1.24070785\n",
      "  1.28525314  0.94317539  3.8085678  -2.1863611   0.16209508  1.7271124\n",
      " -0.71902315  0.73240667  1.07188498 -0.20065888 -1.11949972  0.85116783\n",
      "  2.48393083 -0.21021716 -1.81365971  1.82426806 -0.6613045   3.79572771\n",
      " -1.35794706  1.71316308  1.13392455 -1.33275657  2.77222266 -1.77040535\n",
      " -0.48640891 -0.98999109 -0.44335623  1.75571905 -2.43927961 -0.94650669\n",
      " -2.0680862  -0.28871905 -1.50969898 -1.04967014]\n",
      "Total time: duration:  8.018 seconds\n"
     ]
    }
   ],
   "source": [
    "start = time.time()\n",
    "array_ids = [make_array.remote(n*10) for n in range(5)]\n",
    "added_array_ids = [add_arrays.remote(id, id) for id in array_ids]\n",
    "for array in ray.get(added_array_ids):\n",
    "    print(f'{array.size}: {array}')\n",
    "pd(time.time() - start, prefix=\"Total time:\")"
   ]
  },
  {
   "cell_type": "markdown",
   "metadata": {},
   "source": [
    "On my machine, I waited 8 seconds and then everything was printed at once."
   ]
  },
  {
   "cell_type": "markdown",
   "metadata": {},
   "source": [
    "There are two fundamental problems with the way we've used `ray.get()` so far:\n",
    "\n",
    "1. There's no timeout, in case something gets \"hung\".\n",
    "2. We have to wait for _all_ the objects to be available before `ray.get()` returns.\n",
    "\n",
    "The ability to specify a timeout is essential in production code as a defensive measure. Many potential problems could happen in a real production system, any one of which could cause the task we're waiting on to take an abnormally long time to complete or never complete. Our application would be deadlocked waiting on this task. Hence, it's **strongly recommended** in production software to always use timeouts on blocking calls, so that the application can attempt some sort of recovery in situations like this, or at least report the error and \"degrade gracefully\".\n",
    "\n",
    "Actually, there _is_ a `timeout=<value>` option you can pass to `ray.get()` ([documentation](https://ray.readthedocs.io/en/latest/package-ref.html#ray.get)), but it will most likely be removed in a future release of Ray. Why remove it if timeouts are important? This change will simplify the implementation of `ray.get()` and encourage the use of `ray.wait()` for waiting ([documentation](https://ray.readthedocs.io/en/latest/package-ref.html#ray.wait)) instead, followed by using `ray.get()` to retrieve values for tasks that `ray.wait()` tells us are finished. \n",
    "\n",
    "Using `ray.wait()` is also the way to fix the second problem with using `ray.get()` by itself, that we have to wait for all tasks to finish before we get any values back. Some of those tasks might finish quickly, like our contrived examples that sleep for short durations compared to other invocations. \n",
    "\n",
    "When you have a list of asynchronous tasks, you want to process the results of them as soon they become available, even while others continue to run. Use `ray.wait()` for this purpose.\n",
    "\n",
    "Therefore, while `ray.get()` is simple and convenient, for _production code_, we recommend using `ray.wait()`, **with** timeouts, for blocking on running tasks. Then use `ray.get()` to retrieve values of completed tasks. Now we'll learn how to use these two together. For a longer discussion on `ray.wait()`, see [this blog post](https://medium.com/distributed-computing-with-ray/ray-tips-and-tricks-part-i-ray-wait-9ed7a0b9836d).\n",
    "\n",
    "Here is the previous example rewritten to use `ray.wait()`:"
   ]
  },
  {
   "cell_type": "code",
   "execution_count": 9,
   "metadata": {},
   "outputs": [
    {
     "name": "stdout",
     "output_type": "stream",
     "text": [
      "Returned   1 completed tasks. (elapsed time:  0.004)\n",
      "0: []\n",
      "Returned   1 completed tasks. (elapsed time:  2.011)\n",
      "10: [-0.85449298  1.15447431 -2.60940523 -1.75740149 -2.41089874  1.47905051\n",
      " -0.23022805  0.21967976  1.22964948 -2.04283504]\n",
      "Returned   1 completed tasks. (elapsed time:  4.009)\n",
      "20: [-1.21487318  2.56244402 -1.23654332 -3.28333006 -1.20740969  2.39720705\n",
      "  2.9384196  -3.47694866 -0.67281025 -2.16697581  0.4629965   0.09429516\n",
      " -2.47184897 -0.16357379  2.72500368 -0.99202754 -2.67189239 -4.45407665\n",
      "  1.23842453  0.68647595]\n",
      "Returned   1 completed tasks. (elapsed time:  6.009)\n",
      "30: [-3.11093129  1.0825721   2.30213175  2.31177037 -2.65396368  1.88527072\n",
      "  1.33445319  2.61171615 -1.13107125  2.68175946  2.24242472  2.15692703\n",
      " -0.77923656  3.28037828 -2.45808294  1.48073312  0.13788289  4.3452465\n",
      "  0.16205333  0.38917936  1.08043093  1.72138918 -1.42621375 -3.44727482\n",
      "  3.52339114  0.48044016 -1.02795655 -0.57662428  0.85252907  2.31112521]\n",
      "Returned   1 completed tasks. (elapsed time:  8.011)\n",
      "40: [-0.10234624 -1.79376124 -0.26777542  0.56445551  2.26490889  3.67502343\n",
      " -1.53672038  2.38005704 -1.53299197  1.53324338  1.82957043 -3.01504811\n",
      " -0.49047265  1.15722141 -0.78097993 -2.33364104  0.04326117  2.62011463\n",
      "  3.59978492  0.52056863  0.08367869  0.56644173 -1.4943288  -1.32141875\n",
      "  1.28872818  0.41379408 -1.47970751  2.87604966 -1.42690399 -0.7380709\n",
      " -2.75912698 -2.08471466  1.8091338   4.32739754 -0.39791299  3.52029419\n",
      "  1.11873343  0.51987192  1.4245302   1.26301885]\n",
      "\n",
      "all arrays: [array([], dtype=float64), array([-0.85449298,  1.15447431, -2.60940523, -1.75740149, -2.41089874,\n",
      "        1.47905051, -0.23022805,  0.21967976,  1.22964948, -2.04283504]), array([-1.21487318,  2.56244402, -1.23654332, -3.28333006, -1.20740969,\n",
      "        2.39720705,  2.9384196 , -3.47694866, -0.67281025, -2.16697581,\n",
      "        0.4629965 ,  0.09429516, -2.47184897, -0.16357379,  2.72500368,\n",
      "       -0.99202754, -2.67189239, -4.45407665,  1.23842453,  0.68647595]), array([-3.11093129,  1.0825721 ,  2.30213175,  2.31177037, -2.65396368,\n",
      "        1.88527072,  1.33445319,  2.61171615, -1.13107125,  2.68175946,\n",
      "        2.24242472,  2.15692703, -0.77923656,  3.28037828, -2.45808294,\n",
      "        1.48073312,  0.13788289,  4.3452465 ,  0.16205333,  0.38917936,\n",
      "        1.08043093,  1.72138918, -1.42621375, -3.44727482,  3.52339114,\n",
      "        0.48044016, -1.02795655, -0.57662428,  0.85252907,  2.31112521]), array([-0.10234624, -1.79376124, -0.26777542,  0.56445551,  2.26490889,\n",
      "        3.67502343, -1.53672038,  2.38005704, -1.53299197,  1.53324338,\n",
      "        1.82957043, -3.01504811, -0.49047265,  1.15722141, -0.78097993,\n",
      "       -2.33364104,  0.04326117,  2.62011463,  3.59978492,  0.52056863,\n",
      "        0.08367869,  0.56644173, -1.4943288 , -1.32141875,  1.28872818,\n",
      "        0.41379408, -1.47970751,  2.87604966, -1.42690399, -0.7380709 ,\n",
      "       -2.75912698, -2.08471466,  1.8091338 ,  4.32739754, -0.39791299,\n",
      "        3.52029419,  1.11873343,  0.51987192,  1.4245302 ,  1.26301885])]\n",
      "Total time: duration:  8.013 seconds\n"
     ]
    }
   ],
   "source": [
    "start = time.time()\n",
    "array_ids = [make_array.remote(n*10) for n in range(5)]\n",
    "added_array_ids = [add_arrays.remote(id, id) for id in array_ids]\n",
    "\n",
    "arrays = []\n",
    "waiting_ids = list(added_array_ids)        # Assign a working list to the full list of ids\n",
    "while len(waiting_ids) > 0:                # Loop until all tasks have completed\n",
    "    # Call ray.wait with:\n",
    "    #   1. the list of ids we're still waiting to complete,\n",
    "    #   2. tell it to return immediately as soon as one of them completes,\n",
    "    #   3. tell it wait up to 10 seconds before timing out.\n",
    "    ready_ids, remaining_ids = ray.wait(waiting_ids, num_returns=1, timeout=10.0)\n",
    "    print('Returned {:3d} completed tasks. (elapsed time: {:6.3f})'.format(len(ready_ids), time.time() - start))\n",
    "    new_arrays = ray.get(ready_ids)\n",
    "    arrays.extend(new_arrays)\n",
    "    for array in new_arrays:\n",
    "        print(f'{array.size}: {array}')\n",
    "    waiting_ids = remaining_ids  # Reset this list; don't include the completed ids in the list again!\n",
    "    \n",
    "print(f\"\\nall arrays: {arrays}\")\n",
    "pd(time.time() - start, prefix=\"Total time:\")"
   ]
  },
  {
   "cell_type": "markdown",
   "metadata": {},
   "source": [
    "Now it still takes about 8 seconds to complete, 4 seconds for the longest invocation of `make_array` and 4 seconds for the invocation of `add_arrays`, but since the others complete more quickly, we see their results as soon as they become available, at 0, 2, 4, and 6 second intervals.\n",
    "\n",
    "> **Warning:** For each call to `ray.wait()` in a loop like this, it's important to remove the ids that have completed. Otherwise, `ray.wait()` will return immediately with the same list containg the first completed item, over and over again; you'll loop forever!! Resetting the list is easy, since the second list returned by `ray.wait()` is the rest of the items that are still running. So, that's what we use.\n",
    "\n",
    "Now let's try it with `num_returns = 2`:"
   ]
  },
  {
   "cell_type": "code",
   "execution_count": 10,
   "metadata": {},
   "outputs": [
    {
     "name": "stdout",
     "output_type": "stream",
     "text": [
      "Returned   2 completed tasks. (elapsed time:  2.006)\n",
      "0: []\n",
      "10: [-1.86926937 -2.79755426 -2.88371951  0.51329029  2.04036461  2.51562627\n",
      "  2.76583854 -1.36741451  2.43365363  0.55927884]\n",
      "Returned   2 completed tasks. (elapsed time:  6.014)\n",
      "20: [-0.54269521 -1.84024491 -0.34883852  2.91032434  1.30178174  0.47346447\n",
      " -1.25463393  1.32749867  1.0066404  -3.47148367 -0.71084499  0.53963217\n",
      " -0.5210317  -2.20719988  0.18085195 -1.05244039  1.81690414  4.52141655\n",
      "  0.57138735  3.45802739]\n",
      "30: [-1.25480595 -1.81101011  3.47889852 -1.87615977 -1.80450219 -0.75241735\n",
      " -2.00089927 -0.41602412 -0.99066026  0.42769706 -1.4573502  -1.67251474\n",
      "  1.18773697 -0.3951468  -2.28158217 -0.48963962 -2.39306307  0.42585973\n",
      " -0.28605042 -2.31749175  1.13693264  2.13648719  1.35717073  1.35160299\n",
      "  0.34976972  1.99357586  2.08799347  0.05368404 -0.0529422   0.65635089]\n",
      "Returned   1 completed tasks. (elapsed time:  8.011)\n",
      "40: [-3.34326143 -3.74834345  1.64783881 -2.29707798 -0.94796681  2.06371446\n",
      " -1.06037683  0.35652909 -2.67402881  4.45467878  1.27142922 -2.16855949\n",
      "  3.13089658  2.06960758  1.11762021 -2.89950166 -0.18338786 -0.71105132\n",
      " -2.26977939 -1.28987466  0.14656722  1.39936066  2.25643466  1.70848486\n",
      " -0.73356542  4.57693867 -2.11126978  1.15066721  2.33579876  4.06069554\n",
      "  0.61382928  1.57246017  4.30707833  2.33601749  2.63740754 -2.48151625\n",
      " -0.44471911 -1.11734606 -0.47457106  2.15899957]\n",
      "\n",
      "all arrays: [array([], dtype=float64), array([-1.86926937, -2.79755426, -2.88371951,  0.51329029,  2.04036461,\n",
      "        2.51562627,  2.76583854, -1.36741451,  2.43365363,  0.55927884]), array([-0.54269521, -1.84024491, -0.34883852,  2.91032434,  1.30178174,\n",
      "        0.47346447, -1.25463393,  1.32749867,  1.0066404 , -3.47148367,\n",
      "       -0.71084499,  0.53963217, -0.5210317 , -2.20719988,  0.18085195,\n",
      "       -1.05244039,  1.81690414,  4.52141655,  0.57138735,  3.45802739]), array([-1.25480595, -1.81101011,  3.47889852, -1.87615977, -1.80450219,\n",
      "       -0.75241735, -2.00089927, -0.41602412, -0.99066026,  0.42769706,\n",
      "       -1.4573502 , -1.67251474,  1.18773697, -0.3951468 , -2.28158217,\n",
      "       -0.48963962, -2.39306307,  0.42585973, -0.28605042, -2.31749175,\n",
      "        1.13693264,  2.13648719,  1.35717073,  1.35160299,  0.34976972,\n",
      "        1.99357586,  2.08799347,  0.05368404, -0.0529422 ,  0.65635089]), array([-3.34326143, -3.74834345,  1.64783881, -2.29707798, -0.94796681,\n",
      "        2.06371446, -1.06037683,  0.35652909, -2.67402881,  4.45467878,\n",
      "        1.27142922, -2.16855949,  3.13089658,  2.06960758,  1.11762021,\n",
      "       -2.89950166, -0.18338786, -0.71105132, -2.26977939, -1.28987466,\n",
      "        0.14656722,  1.39936066,  2.25643466,  1.70848486, -0.73356542,\n",
      "        4.57693867, -2.11126978,  1.15066721,  2.33579876,  4.06069554,\n",
      "        0.61382928,  1.57246017,  4.30707833,  2.33601749,  2.63740754,\n",
      "       -2.48151625, -0.44471911, -1.11734606, -0.47457106,  2.15899957])]\n",
      "Total time: duration:  8.014 seconds\n"
     ]
    }
   ],
   "source": [
    "start = time.time()\n",
    "array_ids = [make_array.remote(n*10) for n in range(5)]\n",
    "added_array_ids = [add_arrays.remote(id, id) for id in array_ids]\n",
    "\n",
    "arrays = []\n",
    "waiting_ids = list(added_array_ids)        # Assign a working list to the full list of ids\n",
    "while len(waiting_ids) > 0:                # Loop until all tasks have completed\n",
    "    # Call ray.wait with:\n",
    "    #   1. the list of ids we're still waiting to complete,\n",
    "    #   2. tell it to return immediately as soon as TWO of them complete,\n",
    "    #   3. tell it wait up to 10 seconds before timing out.\n",
    "    return_n = 2 if len(waiting_ids) > 1 else 1\n",
    "    ready_ids, remaining_ids = ray.wait(waiting_ids, num_returns=return_n, timeout=10.0)\n",
    "    print('Returned {:3d} completed tasks. (elapsed time: {:6.3f})'.format(len(ready_ids), time.time() - start))\n",
    "    new_arrays = ray.get(ready_ids)\n",
    "    arrays.extend(new_arrays)\n",
    "    for array in new_arrays:\n",
    "        print(f'{array.size}: {array}')\n",
    "    waiting_ids = remaining_ids  # Reset this list; don't include the completed ids in the list again!\n",
    "    \n",
    "print(f\"\\nall arrays: {arrays}\")\n",
    "pd(time.time() - start, prefix=\"Total time:\")"
   ]
  },
  {
   "cell_type": "markdown",
   "metadata": {},
   "source": [
    "Now we get two at a time output. Note that we don't actually pass `num_returns=2` every time. If you ask for more items than the length of the input list, you get an error. So, we compute `num_returns`, using `2` except when there's only one task to wait on, in which case we use `1`. So, in fact, the output for `40` was a single task result, because we started with `5` and processed two at a time."
   ]
  },
  {
   "cell_type": "markdown",
   "metadata": {},
   "source": [
    "## Exercise 2\n",
    "\n",
    "The following cell is identical to the last one. Modify it to use a timeout of `2.5` seconds, shorter than our longest tasks. What happens now? Try using other times."
   ]
  },
  {
   "cell_type": "code",
   "execution_count": 11,
   "metadata": {},
   "outputs": [
    {
     "name": "stdout",
     "output_type": "stream",
     "text": [
      "Returned   2 completed tasks. (elapsed time:  2.010)\n",
      "0: []\n",
      "10: [-0.18709138 -1.86872945  1.91816065  0.7808244  -2.72476331  1.14352354\n",
      "  0.81234357  0.68776441 -0.64189843  1.08302092]\n",
      "Returned   1 completed tasks. (elapsed time:  5.525)\n",
      "20: [ 0.52266716 -3.08460851  0.59384596  1.89934035 -0.99747204  0.87197793\n",
      "  2.02192592 -0.06347615  1.25861112  2.39331936  0.4994623   0.96452075\n",
      "  1.75120455  1.53829654 -2.13063102  0.79245919 -0.93726517  1.61269672\n",
      "  1.87419005 -0.25162768]\n",
      "Returned   2 completed tasks. (elapsed time:  8.008)\n",
      "30: [ 1.16540135  2.1067562   0.52886171 -2.11710667 -3.99711496 -1.62270596\n",
      "  1.31864812  2.26691929 -2.53565935 -1.67409131  0.63335523 -0.08132226\n",
      "  2.62662533 -0.95682833 -1.40950228  0.19723     1.49864354 -2.10594921\n",
      " -0.94308719 -2.73808645  2.3044671  -4.4851769   3.21948042  1.66468726\n",
      " -2.5320676   0.89294762  2.10017591 -0.89444679 -1.43175178  3.12545499]\n",
      "40: [-2.60447255 -4.90947643  0.6257831  -0.64722309  1.9121866  -1.20574243\n",
      "  3.2662678  -2.25445801 -0.09916662  1.13086798 -1.39047614  2.53628264\n",
      "  0.55689922  0.27042178 -2.37339122 -1.91763809 -0.38086183 -0.58883613\n",
      "  3.58583716  2.57765498  2.62470689  1.63613953 -2.6494246   0.52924387\n",
      " -0.19323255  0.53985573 -0.58379672 -4.46583492  0.36943398  2.6773263\n",
      " -2.2731486   2.57869743  3.50495491 -0.14129254 -2.666519    2.33344628\n",
      "  1.99361065  1.33670045  1.43285023  0.19121012]\n",
      "\n",
      "all arrays: [array([], dtype=float64), array([-0.18709138, -1.86872945,  1.91816065,  0.7808244 , -2.72476331,\n",
      "        1.14352354,  0.81234357,  0.68776441, -0.64189843,  1.08302092]), array([ 0.52266716, -3.08460851,  0.59384596,  1.89934035, -0.99747204,\n",
      "        0.87197793,  2.02192592, -0.06347615,  1.25861112,  2.39331936,\n",
      "        0.4994623 ,  0.96452075,  1.75120455,  1.53829654, -2.13063102,\n",
      "        0.79245919, -0.93726517,  1.61269672,  1.87419005, -0.25162768]), array([ 1.16540135,  2.1067562 ,  0.52886171, -2.11710667, -3.99711496,\n",
      "       -1.62270596,  1.31864812,  2.26691929, -2.53565935, -1.67409131,\n",
      "        0.63335523, -0.08132226,  2.62662533, -0.95682833, -1.40950228,\n",
      "        0.19723   ,  1.49864354, -2.10594921, -0.94308719, -2.73808645,\n",
      "        2.3044671 , -4.4851769 ,  3.21948042,  1.66468726, -2.5320676 ,\n",
      "        0.89294762,  2.10017591, -0.89444679, -1.43175178,  3.12545499]), array([-2.60447255, -4.90947643,  0.6257831 , -0.64722309,  1.9121866 ,\n",
      "       -1.20574243,  3.2662678 , -2.25445801, -0.09916662,  1.13086798,\n",
      "       -1.39047614,  2.53628264,  0.55689922,  0.27042178, -2.37339122,\n",
      "       -1.91763809, -0.38086183, -0.58883613,  3.58583716,  2.57765498,\n",
      "        2.62470689,  1.63613953, -2.6494246 ,  0.52924387, -0.19323255,\n",
      "        0.53985573, -0.58379672, -4.46583492,  0.36943398,  2.6773263 ,\n",
      "       -2.2731486 ,  2.57869743,  3.50495491, -0.14129254, -2.666519  ,\n",
      "        2.33344628,  1.99361065,  1.33670045,  1.43285023,  0.19121012])]\n",
      "Total time: duration:  8.011 seconds\n"
     ]
    }
   ],
   "source": [
    "start = time.time()\n",
    "array_ids = [make_array.remote(n*10) for n in range(5)]\n",
    "added_array_ids = [add_arrays.remote(id, id) for id in array_ids]\n",
    "\n",
    "arrays = []\n",
    "waiting_ids = list(added_array_ids)        # Assign a working list to the full list of ids\n",
    "while len(waiting_ids) > 0:                # Loop until all tasks have completed\n",
    "    # Call ray.wait with:\n",
    "    #   1. the list of ids we're still waiting to complete,\n",
    "    #   2. tell it to return immediately as soon as TWO of them complete,\n",
    "    #   3. tell it wait up to 10 seconds before timing out.\n",
    "    return_n = 2 if len(waiting_ids) > 1 else 1\n",
    "    ready_ids, remaining_ids = ray.wait(waiting_ids, num_returns=return_n, timeout=2.5)\n",
    "    print('Returned {:3d} completed tasks. (elapsed time: {:6.3f})'.format(len(ready_ids), time.time() - start))\n",
    "    new_arrays = ray.get(ready_ids)\n",
    "    arrays.extend(new_arrays)\n",
    "    for array in new_arrays:\n",
    "        print(f'{array.size}: {array}')\n",
    "    waiting_ids = remaining_ids  # Reset this list; don't include the completed ids in the list again!\n",
    "    \n",
    "print(f\"\\nall arrays: {arrays}\")\n",
    "pd(time.time() - start, prefix=\"Total time:\")"
   ]
  },
  {
   "cell_type": "markdown",
   "metadata": {},
   "source": [
    "In conclusion:\n",
    "\n",
    "> **Tips:**\n",
    ">\n",
    "> 1. Use `ray.wait()` with a timeout to wait for one or more running tasks. Then use `ray.get()` to retrieve the values for the finished tasks.\n",
    "> 2. Don't ask for results you don't need.\n",
    "> 3. Don't ask for the results you need until you really need them."
   ]
  },
  {
   "cell_type": "markdown",
   "metadata": {},
   "source": [
    "## Exercise 3\n",
    "\n",
    "Let's make sure you understand how to use `ray.wait()`. The definitions from Exercise 1 in the previous lesson are repeated in the next cell. Change the definitions to use Ray. In particular, use `ray.wait()` as we used it above. You can just use the default values for `num_returns` and `timeout` if you want. The second cell uses `assert` statements to check your work.\n",
    "\n",
    "> **Tip:** The solution is in the `solutions` folder."
   ]
  },
  {
   "cell_type": "code",
   "execution_count": 12,
   "metadata": {},
   "outputs": [],
   "source": [
    "def slow_square(n):\n",
    "    time.sleep(n)\n",
    "    return n*n\n",
    "\n",
    "@ray.remote\n",
    "def fast_square(n):\n",
    "    return slow_square(n)\n",
    "\n",
    "start = time.time()\n",
    "square_ids = [fast_square.remote(n) for n in range(4)]\n",
    "squares = []\n",
    "\n",
    "waiting_ids = list(square_ids)             # Assign a working list to the full list of ids\n",
    "while len(waiting_ids) > 0:                # Loop until all tasks have completed\n",
    "    # Call ray.wait with:\n",
    "    #   1. the list of ids we're still waiting to complete,\n",
    "    #   2. tell it to return immediately as soon as TWO of them complete,\n",
    "    #   3. tell it wait up to 10 seconds before timing out.\n",
    "    return_n = 2 if len(waiting_ids) > 1 else 1\n",
    "    ready_ids, remaining_ids = ray.wait(waiting_ids, num_returns=return_n, timeout=2.5)\n",
    "    new_squares = ray.get(ready_ids)\n",
    "    squares.extend(new_squares)\n",
    "    waiting_ids = remaining_ids  # Reset this list; don't include the completed ids in the list again!\n",
    "\n",
    "duration = time.time() - start"
   ]
  },
  {
   "cell_type": "code",
   "execution_count": 13,
   "metadata": {},
   "outputs": [],
   "source": [
    "assert squares == [0, 1, 4, 9], f'Did you use ray.get() to retrieve the values? squares = {squares}'\n",
    "assert duration < 4.1, f'Did you use Ray to parallelize the work? duration = {duration}' "
   ]
  },
  {
   "cell_type": "markdown",
   "metadata": {},
   "source": [
    "## What Is the Optimal Task Granularity\n",
    "\n",
    "How fine-grained should Ray tasks be? There's no fixed rule of thumb, but Ray clearly adds some overhead for task management and using object stores in a cluster. Therefore, it makes sense that tasks which are too small will perform poorly.\n",
    "\n",
    "We'll explore this topic over several more lessons, but for now, let's get a sense of the overhead while running in your setup.\n",
    "\n",
    "We'll continue to use NumPy arrays to create \"load\", but remove the `sleep` calls:"
   ]
  },
  {
   "cell_type": "code",
   "execution_count": 14,
   "metadata": {},
   "outputs": [],
   "source": [
    "def noop(n):\n",
    "    return n\n",
    "\n",
    "def local_make_array(n):\n",
    "    return np.random.standard_normal(n)\n",
    "\n",
    "@ray.remote\n",
    "def remote_make_array(n):\n",
    "    return local_make_array(n)"
   ]
  },
  {
   "cell_type": "markdown",
   "metadata": {},
   "source": [
    "Let's do `trials` runs for each experiment, to average out background noise:"
   ]
  },
  {
   "cell_type": "code",
   "execution_count": 15,
   "metadata": {},
   "outputs": [],
   "source": [
    "trials=100"
   ]
  },
  {
   "cell_type": "markdown",
   "metadata": {},
   "source": [
    "First, let's use `noop` to baseline local function calls. Note that we call `print` for the duration, rathern than `pd`, because the overhead is so low the `pd` formatting will print `0.000`:"
   ]
  },
  {
   "cell_type": "code",
   "execution_count": 16,
   "metadata": {},
   "outputs": [
    {
     "name": "stdout",
     "output_type": "stream",
     "text": [
      "0.00010609626770019531 seconds\n"
     ]
    }
   ],
   "source": [
    "start = time.time()\n",
    "[noop(t) for t in range(trials)]\n",
    "print(f'{time.time() - start} seconds')"
   ]
  },
  {
   "cell_type": "markdown",
   "metadata": {},
   "source": [
    "Let's try the same run with `local_make_array(n)` for `n = 100000`:"
   ]
  },
  {
   "cell_type": "code",
   "execution_count": 17,
   "metadata": {},
   "outputs": [
    {
     "name": "stdout",
     "output_type": "stream",
     "text": [
      "0.2957029342651367 seconds\n"
     ]
    }
   ],
   "source": [
    "start = time.time()\n",
    "[local_make_array(100000) for _ in range(trials)]\n",
    "print(f'{time.time() - start} seconds')"
   ]
  },
  {
   "cell_type": "markdown",
   "metadata": {},
   "source": [
    "So, we can safely ignore the \"noop\" overhead for now. For completeness, here's what happens with remote execution:"
   ]
  },
  {
   "cell_type": "code",
   "execution_count": 18,
   "metadata": {},
   "outputs": [
    {
     "name": "stdout",
     "output_type": "stream",
     "text": [
      "0.08694195747375488 seconds\n"
     ]
    }
   ],
   "source": [
    "start = time.time()\n",
    "ids = [remote_make_array.remote(100000) for _ in range(trials)]\n",
    "ray.get(ids)\n",
    "print(f'{time.time() - start} seconds')"
   ]
  },
  {
   "cell_type": "markdown",
   "metadata": {},
   "source": [
    "For arrays of 100000, using Ray is faster (at least on this test machine). The benefits of parallel computation, rather than synchronous, already outweight the Ray overhead.\n",
    "\n",
    "So, let's run some trials with increasingly large array sizes, to compare the performance with local vs. remote execution. First, we'll set up `matplotlib`:"
   ]
  },
  {
   "cell_type": "code",
   "execution_count": 19,
   "metadata": {},
   "outputs": [
    {
     "data": {
      "text/plain": [
       "([100,\n",
       "  200,\n",
       "  300,\n",
       "  500,\n",
       "  800,\n",
       "  1000,\n",
       "  2000,\n",
       "  3000,\n",
       "  5000,\n",
       "  8000,\n",
       "  10000,\n",
       "  20000,\n",
       "  30000,\n",
       "  50000,\n",
       "  80000],\n",
       " [0.0014541149139404297,\n",
       "  0.0010333061218261719,\n",
       "  0.0012080669403076172,\n",
       "  0.0019462108612060547,\n",
       "  0.0029458999633789062,\n",
       "  0.003633260726928711,\n",
       "  0.006973981857299805,\n",
       "  0.008816242218017578,\n",
       "  0.015500068664550781,\n",
       "  0.02538013458251953,\n",
       "  0.03076934814453125,\n",
       "  0.06094002723693848,\n",
       "  0.08382797241210938,\n",
       "  0.13878917694091797,\n",
       "  0.2144918441772461],\n",
       " [0.027678966522216797,\n",
       "  0.022787809371948242,\n",
       "  0.0201570987701416,\n",
       "  0.019936084747314453,\n",
       "  0.019878864288330078,\n",
       "  0.020009994506835938,\n",
       "  0.019706010818481445,\n",
       "  0.020267724990844727,\n",
       "  0.02091693878173828,\n",
       "  0.021129131317138672,\n",
       "  0.02340388298034668,\n",
       "  0.02861618995666504,\n",
       "  0.034046173095703125,\n",
       "  0.0418851375579834,\n",
       "  0.0546109676361084])"
      ]
     },
     "execution_count": 19,
     "metadata": {},
     "output_type": "execute_result"
    }
   ],
   "source": [
    "local_durations = []\n",
    "remote_durations = []\n",
    "# These n values were determined by experimentation on this test machine. \n",
    "# If you are using an old machine, and this cell takes a long time to execute,\n",
    "# you could set the `trials` value above to a smaller number. \n",
    "ns = [i*(10**j) for j in range(2,5) for i in [1,2,3,5,8]]\n",
    "for n in ns:\n",
    "    start_local = time.time()\n",
    "    [local_make_array(n) for _ in range(trials)]\n",
    "    local_durations.append(time.time() - start_local)\n",
    "    \n",
    "    start_remote = time.time()\n",
    "    ids = [remote_make_array.remote(n) for _ in range(trials)]\n",
    "    ray.get(ids)\n",
    "    remote_durations.append(time.time() - start_remote)\n",
    "(ns, local_durations, remote_durations)"
   ]
  },
  {
   "cell_type": "code",
   "execution_count": 20,
   "metadata": {},
   "outputs": [
    {
     "data": {
      "text/html": [
       "\n",
       "    <div class=\"bk-root\">\n",
       "        <a href=\"https://bokeh.org\" target=\"_blank\" class=\"bk-logo bk-logo-small bk-logo-notebook\"></a>\n",
       "        <span id=\"1001\">Loading BokehJS ...</span>\n",
       "    </div>"
      ]
     },
     "metadata": {},
     "output_type": "display_data"
    },
    {
     "data": {
      "application/javascript": [
       "\n",
       "(function(root) {\n",
       "  function now() {\n",
       "    return new Date();\n",
       "  }\n",
       "\n",
       "  var force = true;\n",
       "\n",
       "  if (typeof root._bokeh_onload_callbacks === \"undefined\" || force === true) {\n",
       "    root._bokeh_onload_callbacks = [];\n",
       "    root._bokeh_is_loading = undefined;\n",
       "  }\n",
       "\n",
       "  var JS_MIME_TYPE = 'application/javascript';\n",
       "  var HTML_MIME_TYPE = 'text/html';\n",
       "  var EXEC_MIME_TYPE = 'application/vnd.bokehjs_exec.v0+json';\n",
       "  var CLASS_NAME = 'output_bokeh rendered_html';\n",
       "\n",
       "  /**\n",
       "   * Render data to the DOM node\n",
       "   */\n",
       "  function render(props, node) {\n",
       "    var script = document.createElement(\"script\");\n",
       "    node.appendChild(script);\n",
       "  }\n",
       "\n",
       "  /**\n",
       "   * Handle when an output is cleared or removed\n",
       "   */\n",
       "  function handleClearOutput(event, handle) {\n",
       "    var cell = handle.cell;\n",
       "\n",
       "    var id = cell.output_area._bokeh_element_id;\n",
       "    var server_id = cell.output_area._bokeh_server_id;\n",
       "    // Clean up Bokeh references\n",
       "    if (id != null && id in Bokeh.index) {\n",
       "      Bokeh.index[id].model.document.clear();\n",
       "      delete Bokeh.index[id];\n",
       "    }\n",
       "\n",
       "    if (server_id !== undefined) {\n",
       "      // Clean up Bokeh references\n",
       "      var cmd = \"from bokeh.io.state import curstate; print(curstate().uuid_to_server['\" + server_id + \"'].get_sessions()[0].document.roots[0]._id)\";\n",
       "      cell.notebook.kernel.execute(cmd, {\n",
       "        iopub: {\n",
       "          output: function(msg) {\n",
       "            var id = msg.content.text.trim();\n",
       "            if (id in Bokeh.index) {\n",
       "              Bokeh.index[id].model.document.clear();\n",
       "              delete Bokeh.index[id];\n",
       "            }\n",
       "          }\n",
       "        }\n",
       "      });\n",
       "      // Destroy server and session\n",
       "      var cmd = \"import bokeh.io.notebook as ion; ion.destroy_server('\" + server_id + \"')\";\n",
       "      cell.notebook.kernel.execute(cmd);\n",
       "    }\n",
       "  }\n",
       "\n",
       "  /**\n",
       "   * Handle when a new output is added\n",
       "   */\n",
       "  function handleAddOutput(event, handle) {\n",
       "    var output_area = handle.output_area;\n",
       "    var output = handle.output;\n",
       "\n",
       "    // limit handleAddOutput to display_data with EXEC_MIME_TYPE content only\n",
       "    if ((output.output_type != \"display_data\") || (!output.data.hasOwnProperty(EXEC_MIME_TYPE))) {\n",
       "      return\n",
       "    }\n",
       "\n",
       "    var toinsert = output_area.element.find(\".\" + CLASS_NAME.split(' ')[0]);\n",
       "\n",
       "    if (output.metadata[EXEC_MIME_TYPE][\"id\"] !== undefined) {\n",
       "      toinsert[toinsert.length - 1].firstChild.textContent = output.data[JS_MIME_TYPE];\n",
       "      // store reference to embed id on output_area\n",
       "      output_area._bokeh_element_id = output.metadata[EXEC_MIME_TYPE][\"id\"];\n",
       "    }\n",
       "    if (output.metadata[EXEC_MIME_TYPE][\"server_id\"] !== undefined) {\n",
       "      var bk_div = document.createElement(\"div\");\n",
       "      bk_div.innerHTML = output.data[HTML_MIME_TYPE];\n",
       "      var script_attrs = bk_div.children[0].attributes;\n",
       "      for (var i = 0; i < script_attrs.length; i++) {\n",
       "        toinsert[toinsert.length - 1].firstChild.setAttribute(script_attrs[i].name, script_attrs[i].value);\n",
       "        toinsert[toinsert.length - 1].firstChild.textContent = bk_div.children[0].textContent\n",
       "      }\n",
       "      // store reference to server id on output_area\n",
       "      output_area._bokeh_server_id = output.metadata[EXEC_MIME_TYPE][\"server_id\"];\n",
       "    }\n",
       "  }\n",
       "\n",
       "  function register_renderer(events, OutputArea) {\n",
       "\n",
       "    function append_mime(data, metadata, element) {\n",
       "      // create a DOM node to render to\n",
       "      var toinsert = this.create_output_subarea(\n",
       "        metadata,\n",
       "        CLASS_NAME,\n",
       "        EXEC_MIME_TYPE\n",
       "      );\n",
       "      this.keyboard_manager.register_events(toinsert);\n",
       "      // Render to node\n",
       "      var props = {data: data, metadata: metadata[EXEC_MIME_TYPE]};\n",
       "      render(props, toinsert[toinsert.length - 1]);\n",
       "      element.append(toinsert);\n",
       "      return toinsert\n",
       "    }\n",
       "\n",
       "    /* Handle when an output is cleared or removed */\n",
       "    events.on('clear_output.CodeCell', handleClearOutput);\n",
       "    events.on('delete.Cell', handleClearOutput);\n",
       "\n",
       "    /* Handle when a new output is added */\n",
       "    events.on('output_added.OutputArea', handleAddOutput);\n",
       "\n",
       "    /**\n",
       "     * Register the mime type and append_mime function with output_area\n",
       "     */\n",
       "    OutputArea.prototype.register_mime_type(EXEC_MIME_TYPE, append_mime, {\n",
       "      /* Is output safe? */\n",
       "      safe: true,\n",
       "      /* Index of renderer in `output_area.display_order` */\n",
       "      index: 0\n",
       "    });\n",
       "  }\n",
       "\n",
       "  // register the mime type if in Jupyter Notebook environment and previously unregistered\n",
       "  if (root.Jupyter !== undefined) {\n",
       "    var events = require('base/js/events');\n",
       "    var OutputArea = require('notebook/js/outputarea').OutputArea;\n",
       "\n",
       "    if (OutputArea.prototype.mime_types().indexOf(EXEC_MIME_TYPE) == -1) {\n",
       "      register_renderer(events, OutputArea);\n",
       "    }\n",
       "  }\n",
       "\n",
       "  \n",
       "  if (typeof (root._bokeh_timeout) === \"undefined\" || force === true) {\n",
       "    root._bokeh_timeout = Date.now() + 5000;\n",
       "    root._bokeh_failed_load = false;\n",
       "  }\n",
       "\n",
       "  var NB_LOAD_WARNING = {'data': {'text/html':\n",
       "     \"<div style='background-color: #fdd'>\\n\"+\n",
       "     \"<p>\\n\"+\n",
       "     \"BokehJS does not appear to have successfully loaded. If loading BokehJS from CDN, this \\n\"+\n",
       "     \"may be due to a slow or bad network connection. Possible fixes:\\n\"+\n",
       "     \"</p>\\n\"+\n",
       "     \"<ul>\\n\"+\n",
       "     \"<li>re-rerun `output_notebook()` to attempt to load from CDN again, or</li>\\n\"+\n",
       "     \"<li>use INLINE resources instead, as so:</li>\\n\"+\n",
       "     \"</ul>\\n\"+\n",
       "     \"<code>\\n\"+\n",
       "     \"from bokeh.resources import INLINE\\n\"+\n",
       "     \"output_notebook(resources=INLINE)\\n\"+\n",
       "     \"</code>\\n\"+\n",
       "     \"</div>\"}};\n",
       "\n",
       "  function display_loaded() {\n",
       "    var el = document.getElementById(\"1001\");\n",
       "    if (el != null) {\n",
       "      el.textContent = \"BokehJS is loading...\";\n",
       "    }\n",
       "    if (root.Bokeh !== undefined) {\n",
       "      if (el != null) {\n",
       "        el.textContent = \"BokehJS \" + root.Bokeh.version + \" successfully loaded.\";\n",
       "      }\n",
       "    } else if (Date.now() < root._bokeh_timeout) {\n",
       "      setTimeout(display_loaded, 100)\n",
       "    }\n",
       "  }\n",
       "\n",
       "\n",
       "  function run_callbacks() {\n",
       "    try {\n",
       "      root._bokeh_onload_callbacks.forEach(function(callback) {\n",
       "        if (callback != null)\n",
       "          callback();\n",
       "      });\n",
       "    } finally {\n",
       "      delete root._bokeh_onload_callbacks\n",
       "    }\n",
       "    console.debug(\"Bokeh: all callbacks have finished\");\n",
       "  }\n",
       "\n",
       "  function load_libs(css_urls, js_urls, callback) {\n",
       "    if (css_urls == null) css_urls = [];\n",
       "    if (js_urls == null) js_urls = [];\n",
       "\n",
       "    root._bokeh_onload_callbacks.push(callback);\n",
       "    if (root._bokeh_is_loading > 0) {\n",
       "      console.debug(\"Bokeh: BokehJS is being loaded, scheduling callback at\", now());\n",
       "      return null;\n",
       "    }\n",
       "    if (js_urls == null || js_urls.length === 0) {\n",
       "      run_callbacks();\n",
       "      return null;\n",
       "    }\n",
       "    console.debug(\"Bokeh: BokehJS not loaded, scheduling load and callback at\", now());\n",
       "    root._bokeh_is_loading = css_urls.length + js_urls.length;\n",
       "\n",
       "    function on_load() {\n",
       "      root._bokeh_is_loading--;\n",
       "      if (root._bokeh_is_loading === 0) {\n",
       "        console.debug(\"Bokeh: all BokehJS libraries/stylesheets loaded\");\n",
       "        run_callbacks()\n",
       "      }\n",
       "    }\n",
       "\n",
       "    function on_error() {\n",
       "      console.error(\"failed to load \" + url);\n",
       "    }\n",
       "\n",
       "    for (var i = 0; i < css_urls.length; i++) {\n",
       "      var url = css_urls[i];\n",
       "      const element = document.createElement(\"link\");\n",
       "      element.onload = on_load;\n",
       "      element.onerror = on_error;\n",
       "      element.rel = \"stylesheet\";\n",
       "      element.type = \"text/css\";\n",
       "      element.href = url;\n",
       "      console.debug(\"Bokeh: injecting link tag for BokehJS stylesheet: \", url);\n",
       "      document.body.appendChild(element);\n",
       "    }\n",
       "\n",
       "    const hashes = {\"https://cdn.bokeh.org/bokeh/release/bokeh-2.0.1.min.js\": \"JpP8FXbgAZLkfur7LiK3j9AGBhHNIvF742meBJrjO2ShJDhCG2I1uVvW+0DUtrmc\", \"https://cdn.bokeh.org/bokeh/release/bokeh-widgets-2.0.1.min.js\": \"xZlADit0Q04ISQEdKg2k3L4W9AwQBAuDs9nJL9fM/WwzL1tEU9VPNezOFX0nLEAz\", \"https://cdn.bokeh.org/bokeh/release/bokeh-tables-2.0.1.min.js\": \"4BuPRZkdMKSnj3zoxiNrQ86XgNw0rYmBOxe7nshquXwwcauupgBF2DHLVG1WuZlV\", \"https://cdn.bokeh.org/bokeh/release/bokeh-gl-2.0.1.min.js\": \"Dv1SQ87hmDqK6S5OhBf0bCuwAEvL5QYL0PuR/F1SPVhCS/r/abjkbpKDYL2zeM19\"};\n",
       "\n",
       "    for (var i = 0; i < js_urls.length; i++) {\n",
       "      var url = js_urls[i];\n",
       "      var element = document.createElement('script');\n",
       "      element.onload = on_load;\n",
       "      element.onerror = on_error;\n",
       "      element.async = false;\n",
       "      element.src = url;\n",
       "      if (url in hashes) {\n",
       "        element.crossOrigin = \"anonymous\";\n",
       "        element.integrity = \"sha384-\" + hashes[url];\n",
       "      }\n",
       "      console.debug(\"Bokeh: injecting script tag for BokehJS library: \", url);\n",
       "      document.head.appendChild(element);\n",
       "    }\n",
       "  };var element = document.getElementById(\"1001\");\n",
       "  if (element == null) {\n",
       "    console.error(\"Bokeh: ERROR: autoload.js configured with elementid '1001' but no matching script tag was found. \")\n",
       "    return false;\n",
       "  }\n",
       "\n",
       "  function inject_raw_css(css) {\n",
       "    const element = document.createElement(\"style\");\n",
       "    element.appendChild(document.createTextNode(css));\n",
       "    document.body.appendChild(element);\n",
       "  }\n",
       "\n",
       "  \n",
       "  var js_urls = [\"https://cdn.bokeh.org/bokeh/release/bokeh-2.0.1.min.js\", \"https://cdn.bokeh.org/bokeh/release/bokeh-widgets-2.0.1.min.js\", \"https://cdn.bokeh.org/bokeh/release/bokeh-tables-2.0.1.min.js\", \"https://cdn.bokeh.org/bokeh/release/bokeh-gl-2.0.1.min.js\"];\n",
       "  var css_urls = [];\n",
       "  \n",
       "\n",
       "  var inline_js = [\n",
       "    function(Bokeh) {\n",
       "      Bokeh.set_log_level(\"info\");\n",
       "    },\n",
       "    function(Bokeh) {\n",
       "    \n",
       "    \n",
       "    }\n",
       "  ];\n",
       "\n",
       "  function run_inline_js() {\n",
       "    \n",
       "    if (root.Bokeh !== undefined || force === true) {\n",
       "      \n",
       "    for (var i = 0; i < inline_js.length; i++) {\n",
       "      inline_js[i].call(root, root.Bokeh);\n",
       "    }\n",
       "    if (force === true) {\n",
       "        display_loaded();\n",
       "      }} else if (Date.now() < root._bokeh_timeout) {\n",
       "      setTimeout(run_inline_js, 100);\n",
       "    } else if (!root._bokeh_failed_load) {\n",
       "      console.log(\"Bokeh: BokehJS failed to load within specified timeout.\");\n",
       "      root._bokeh_failed_load = true;\n",
       "    } else if (force !== true) {\n",
       "      var cell = $(document.getElementById(\"1001\")).parents('.cell').data().cell;\n",
       "      cell.output_area.append_execute_result(NB_LOAD_WARNING)\n",
       "    }\n",
       "\n",
       "  }\n",
       "\n",
       "  if (root._bokeh_is_loading === 0) {\n",
       "    console.debug(\"Bokeh: BokehJS loaded, going straight to plotting\");\n",
       "    run_inline_js();\n",
       "  } else {\n",
       "    load_libs(css_urls, js_urls, function() {\n",
       "      console.debug(\"Bokeh: BokehJS plotting callback run at\", now());\n",
       "      run_inline_js();\n",
       "    });\n",
       "  }\n",
       "}(window));"
      ],
      "application/vnd.bokehjs_load.v0+json": "\n(function(root) {\n  function now() {\n    return new Date();\n  }\n\n  var force = true;\n\n  if (typeof root._bokeh_onload_callbacks === \"undefined\" || force === true) {\n    root._bokeh_onload_callbacks = [];\n    root._bokeh_is_loading = undefined;\n  }\n\n  \n\n  \n  if (typeof (root._bokeh_timeout) === \"undefined\" || force === true) {\n    root._bokeh_timeout = Date.now() + 5000;\n    root._bokeh_failed_load = false;\n  }\n\n  var NB_LOAD_WARNING = {'data': {'text/html':\n     \"<div style='background-color: #fdd'>\\n\"+\n     \"<p>\\n\"+\n     \"BokehJS does not appear to have successfully loaded. If loading BokehJS from CDN, this \\n\"+\n     \"may be due to a slow or bad network connection. Possible fixes:\\n\"+\n     \"</p>\\n\"+\n     \"<ul>\\n\"+\n     \"<li>re-rerun `output_notebook()` to attempt to load from CDN again, or</li>\\n\"+\n     \"<li>use INLINE resources instead, as so:</li>\\n\"+\n     \"</ul>\\n\"+\n     \"<code>\\n\"+\n     \"from bokeh.resources import INLINE\\n\"+\n     \"output_notebook(resources=INLINE)\\n\"+\n     \"</code>\\n\"+\n     \"</div>\"}};\n\n  function display_loaded() {\n    var el = document.getElementById(\"1001\");\n    if (el != null) {\n      el.textContent = \"BokehJS is loading...\";\n    }\n    if (root.Bokeh !== undefined) {\n      if (el != null) {\n        el.textContent = \"BokehJS \" + root.Bokeh.version + \" successfully loaded.\";\n      }\n    } else if (Date.now() < root._bokeh_timeout) {\n      setTimeout(display_loaded, 100)\n    }\n  }\n\n\n  function run_callbacks() {\n    try {\n      root._bokeh_onload_callbacks.forEach(function(callback) {\n        if (callback != null)\n          callback();\n      });\n    } finally {\n      delete root._bokeh_onload_callbacks\n    }\n    console.debug(\"Bokeh: all callbacks have finished\");\n  }\n\n  function load_libs(css_urls, js_urls, callback) {\n    if (css_urls == null) css_urls = [];\n    if (js_urls == null) js_urls = [];\n\n    root._bokeh_onload_callbacks.push(callback);\n    if (root._bokeh_is_loading > 0) {\n      console.debug(\"Bokeh: BokehJS is being loaded, scheduling callback at\", now());\n      return null;\n    }\n    if (js_urls == null || js_urls.length === 0) {\n      run_callbacks();\n      return null;\n    }\n    console.debug(\"Bokeh: BokehJS not loaded, scheduling load and callback at\", now());\n    root._bokeh_is_loading = css_urls.length + js_urls.length;\n\n    function on_load() {\n      root._bokeh_is_loading--;\n      if (root._bokeh_is_loading === 0) {\n        console.debug(\"Bokeh: all BokehJS libraries/stylesheets loaded\");\n        run_callbacks()\n      }\n    }\n\n    function on_error() {\n      console.error(\"failed to load \" + url);\n    }\n\n    for (var i = 0; i < css_urls.length; i++) {\n      var url = css_urls[i];\n      const element = document.createElement(\"link\");\n      element.onload = on_load;\n      element.onerror = on_error;\n      element.rel = \"stylesheet\";\n      element.type = \"text/css\";\n      element.href = url;\n      console.debug(\"Bokeh: injecting link tag for BokehJS stylesheet: \", url);\n      document.body.appendChild(element);\n    }\n\n    const hashes = {\"https://cdn.bokeh.org/bokeh/release/bokeh-2.0.1.min.js\": \"JpP8FXbgAZLkfur7LiK3j9AGBhHNIvF742meBJrjO2ShJDhCG2I1uVvW+0DUtrmc\", \"https://cdn.bokeh.org/bokeh/release/bokeh-widgets-2.0.1.min.js\": \"xZlADit0Q04ISQEdKg2k3L4W9AwQBAuDs9nJL9fM/WwzL1tEU9VPNezOFX0nLEAz\", \"https://cdn.bokeh.org/bokeh/release/bokeh-tables-2.0.1.min.js\": \"4BuPRZkdMKSnj3zoxiNrQ86XgNw0rYmBOxe7nshquXwwcauupgBF2DHLVG1WuZlV\", \"https://cdn.bokeh.org/bokeh/release/bokeh-gl-2.0.1.min.js\": \"Dv1SQ87hmDqK6S5OhBf0bCuwAEvL5QYL0PuR/F1SPVhCS/r/abjkbpKDYL2zeM19\"};\n\n    for (var i = 0; i < js_urls.length; i++) {\n      var url = js_urls[i];\n      var element = document.createElement('script');\n      element.onload = on_load;\n      element.onerror = on_error;\n      element.async = false;\n      element.src = url;\n      if (url in hashes) {\n        element.crossOrigin = \"anonymous\";\n        element.integrity = \"sha384-\" + hashes[url];\n      }\n      console.debug(\"Bokeh: injecting script tag for BokehJS library: \", url);\n      document.head.appendChild(element);\n    }\n  };var element = document.getElementById(\"1001\");\n  if (element == null) {\n    console.error(\"Bokeh: ERROR: autoload.js configured with elementid '1001' but no matching script tag was found. \")\n    return false;\n  }\n\n  function inject_raw_css(css) {\n    const element = document.createElement(\"style\");\n    element.appendChild(document.createTextNode(css));\n    document.body.appendChild(element);\n  }\n\n  \n  var js_urls = [\"https://cdn.bokeh.org/bokeh/release/bokeh-2.0.1.min.js\", \"https://cdn.bokeh.org/bokeh/release/bokeh-widgets-2.0.1.min.js\", \"https://cdn.bokeh.org/bokeh/release/bokeh-tables-2.0.1.min.js\", \"https://cdn.bokeh.org/bokeh/release/bokeh-gl-2.0.1.min.js\"];\n  var css_urls = [];\n  \n\n  var inline_js = [\n    function(Bokeh) {\n      Bokeh.set_log_level(\"info\");\n    },\n    function(Bokeh) {\n    \n    \n    }\n  ];\n\n  function run_inline_js() {\n    \n    if (root.Bokeh !== undefined || force === true) {\n      \n    for (var i = 0; i < inline_js.length; i++) {\n      inline_js[i].call(root, root.Bokeh);\n    }\n    if (force === true) {\n        display_loaded();\n      }} else if (Date.now() < root._bokeh_timeout) {\n      setTimeout(run_inline_js, 100);\n    } else if (!root._bokeh_failed_load) {\n      console.log(\"Bokeh: BokehJS failed to load within specified timeout.\");\n      root._bokeh_failed_load = true;\n    } else if (force !== true) {\n      var cell = $(document.getElementById(\"1001\")).parents('.cell').data().cell;\n      cell.output_area.append_execute_result(NB_LOAD_WARNING)\n    }\n\n  }\n\n  if (root._bokeh_is_loading === 0) {\n    console.debug(\"Bokeh: BokehJS loaded, going straight to plotting\");\n    run_inline_js();\n  } else {\n    load_libs(css_urls, js_urls, function() {\n      console.debug(\"Bokeh: BokehJS plotting callback run at\", now());\n      run_inline_js();\n    });\n  }\n}(window));"
     },
     "metadata": {},
     "output_type": "display_data"
    },
    {
     "data": {
      "text/html": [
       "\n",
       "\n",
       "\n",
       "\n",
       "\n",
       "\n",
       "  <div class=\"bk-root\" id=\"0a7bf04b-fc25-4342-81c9-4468031ce3be\" data-root-id=\"1094\"></div>\n"
      ]
     },
     "metadata": {},
     "output_type": "display_data"
    },
    {
     "data": {
      "application/javascript": [
       "(function(root) {\n",
       "  function embed_document(root) {\n",
       "    \n",
       "  var docs_json = {\"652a3193-dcfa-472a-ba36-dd02fddee0bf\":{\"roots\":{\"references\":[{\"attributes\":{\"children\":[{\"id\":\"1093\"},{\"id\":\"1091\"}]},\"id\":\"1094\",\"type\":\"Column\"},{\"attributes\":{\"axis\":{\"id\":\"1017\"},\"dimension\":1,\"grid_line_alpha\":0.3,\"ticker\":null},\"id\":\"1020\",\"type\":\"Grid\"},{\"attributes\":{\"ticker\":null},\"id\":\"1044\",\"type\":\"LogTickFormatter\"},{\"attributes\":{},\"id\":\"1026\",\"type\":\"HelpTool\"},{\"attributes\":{\"data_source\":{\"id\":\"1071\"},\"glyph\":{\"id\":\"1072\"},\"hover_glyph\":null,\"muted_glyph\":null,\"nonselection_glyph\":{\"id\":\"1073\"},\"selection_glyph\":null,\"view\":{\"id\":\"1075\"}},\"id\":\"1074\",\"type\":\"GlyphRenderer\"},{\"attributes\":{\"data\":{\"x\":[100,200,300,500,800,1000,2000,3000,5000,8000,10000,20000,30000,50000,80000],\"y\":[0.027678966522216797,0.022787809371948242,0.0201570987701416,0.019936084747314453,0.019878864288330078,0.020009994506835938,0.019706010818481445,0.020267724990844727,0.02091693878173828,0.021129131317138672,0.02340388298034668,0.02861618995666504,0.034046173095703125,0.0418851375579834,0.0546109676361084]},\"selected\":{\"id\":\"1085\"},\"selection_policy\":{\"id\":\"1086\"}},\"id\":\"1055\",\"type\":\"ColumnDataSource\"},{\"attributes\":{\"below\":[{\"id\":\"1013\"}],\"center\":[{\"id\":\"1016\"},{\"id\":\"1020\"},{\"id\":\"1048\"}],\"left\":[{\"id\":\"1017\"}],\"plot_height\":400,\"plot_width\":800,\"renderers\":[{\"id\":\"1040\"},{\"id\":\"1053\"},{\"id\":\"1058\"},{\"id\":\"1074\"}],\"title\":{\"id\":\"1003\"},\"toolbar\":{\"id\":\"1029\"},\"toolbar_location\":null,\"x_range\":{\"id\":\"1005\"},\"x_scale\":{\"id\":\"1009\"},\"y_range\":{\"id\":\"1007\"},\"y_scale\":{\"id\":\"1011\"}},\"id\":\"1002\",\"subtype\":\"Figure\",\"type\":\"Plot\"},{\"attributes\":{\"source\":{\"id\":\"1071\"}},\"id\":\"1075\",\"type\":\"CDSView\"},{\"attributes\":{\"num_minor_ticks\":10},\"id\":\"1014\",\"type\":\"LogTicker\"},{\"attributes\":{\"data_source\":{\"id\":\"1050\"},\"glyph\":{\"id\":\"1051\"},\"hover_glyph\":null,\"muted_glyph\":null,\"nonselection_glyph\":{\"id\":\"1052\"},\"selection_glyph\":null,\"view\":{\"id\":\"1054\"}},\"id\":\"1053\",\"type\":\"GlyphRenderer\"},{\"attributes\":{},\"id\":\"1011\",\"type\":\"LogScale\"},{\"attributes\":{\"items\":[{\"id\":\"1049\"},{\"id\":\"1070\"}],\"location\":\"top_left\"},\"id\":\"1048\",\"type\":\"Legend\"},{\"attributes\":{\"fill_alpha\":{\"value\":0.1},\"fill_color\":{\"value\":\"darkgrey\"},\"line_alpha\":{\"value\":0.1},\"line_color\":{\"value\":\"darkgrey\"},\"x\":{\"field\":\"x\"},\"y\":{\"field\":\"y\"}},\"id\":\"1052\",\"type\":\"Circle\"},{\"attributes\":{\"fill_color\":{\"value\":\"darkgrey\"},\"line_color\":{\"value\":\"darkgrey\"},\"x\":{\"field\":\"x\"},\"y\":{\"field\":\"y\"}},\"id\":\"1072\",\"type\":\"Square\"},{\"attributes\":{},\"id\":\"1005\",\"type\":\"DataRange1d\"},{\"attributes\":{\"label\":{\"value\":\"remote\"},\"renderers\":[{\"id\":\"1058\"}]},\"id\":\"1070\",\"type\":\"LegendItem\"},{\"attributes\":{},\"id\":\"1085\",\"type\":\"Selection\"},{\"attributes\":{\"toolbars\":[{\"id\":\"1029\"}],\"tools\":[{\"id\":\"1021\"},{\"id\":\"1022\"},{\"id\":\"1023\"},{\"id\":\"1024\"},{\"id\":\"1025\"},{\"id\":\"1026\"},{\"id\":\"1028\"}]},\"id\":\"1092\",\"type\":\"ProxyToolbar\"},{\"attributes\":{\"text\":\"Execution Times\"},\"id\":\"1003\",\"type\":\"Title\"},{\"attributes\":{\"source\":{\"id\":\"1050\"}},\"id\":\"1054\",\"type\":\"CDSView\"},{\"attributes\":{\"ticker\":null},\"id\":\"1046\",\"type\":\"LogTickFormatter\"},{\"attributes\":{\"source\":{\"id\":\"1055\"}},\"id\":\"1059\",\"type\":\"CDSView\"},{\"attributes\":{\"num_minor_ticks\":10},\"id\":\"1018\",\"type\":\"LogTicker\"},{\"attributes\":{},\"id\":\"1086\",\"type\":\"UnionRenderers\"},{\"attributes\":{},\"id\":\"1009\",\"type\":\"LogScale\"},{\"attributes\":{\"line_color\":\"#A6CEE3\",\"x\":{\"field\":\"x\"},\"y\":{\"field\":\"y\"}},\"id\":\"1038\",\"type\":\"Line\"},{\"attributes\":{},\"id\":\"1065\",\"type\":\"Selection\"},{\"attributes\":{},\"id\":\"1087\",\"type\":\"Selection\"},{\"attributes\":{\"data_source\":{\"id\":\"1055\"},\"glyph\":{\"id\":\"1056\"},\"hover_glyph\":null,\"muted_glyph\":null,\"name\":\"remote\",\"nonselection_glyph\":{\"id\":\"1057\"},\"selection_glyph\":null,\"view\":{\"id\":\"1059\"}},\"id\":\"1058\",\"type\":\"GlyphRenderer\"},{\"attributes\":{\"axis_label\":\"time\",\"formatter\":{\"id\":\"1046\"},\"ticker\":{\"id\":\"1018\"}},\"id\":\"1017\",\"type\":\"LogAxis\"},{\"attributes\":{\"axis\":{\"id\":\"1013\"},\"grid_line_alpha\":0.3,\"ticker\":null},\"id\":\"1016\",\"type\":\"Grid\"},{\"attributes\":{},\"id\":\"1088\",\"type\":\"UnionRenderers\"},{\"attributes\":{\"data_source\":{\"id\":\"1037\"},\"glyph\":{\"id\":\"1038\"},\"hover_glyph\":null,\"muted_glyph\":null,\"name\":\"local\",\"nonselection_glyph\":{\"id\":\"1039\"},\"selection_glyph\":null,\"view\":{\"id\":\"1041\"}},\"id\":\"1040\",\"type\":\"GlyphRenderer\"},{\"attributes\":{\"bottom_units\":\"screen\",\"fill_alpha\":0.5,\"fill_color\":\"lightgrey\",\"left_units\":\"screen\",\"level\":\"overlay\",\"line_alpha\":1.0,\"line_color\":\"black\",\"line_dash\":[4,4],\"line_width\":2,\"render_mode\":\"css\",\"right_units\":\"screen\",\"top_units\":\"screen\"},\"id\":\"1027\",\"type\":\"BoxAnnotation\"},{\"attributes\":{\"data\":{\"x\":[100,200,300,500,800,1000,2000,3000,5000,8000,10000,20000,30000,50000,80000],\"y\":[0.0014541149139404297,0.0010333061218261719,0.0012080669403076172,0.0019462108612060547,0.0029458999633789062,0.003633260726928711,0.006973981857299805,0.008816242218017578,0.015500068664550781,0.02538013458251953,0.03076934814453125,0.06094002723693848,0.08382797241210938,0.13878917694091797,0.2144918441772461]},\"selected\":{\"id\":\"1067\"},\"selection_policy\":{\"id\":\"1068\"}},\"id\":\"1050\",\"type\":\"ColumnDataSource\"},{\"attributes\":{\"axis_label\":\"array size\",\"formatter\":{\"id\":\"1044\"},\"ticker\":{\"id\":\"1014\"}},\"id\":\"1013\",\"type\":\"LogAxis\"},{\"attributes\":{\"source\":{\"id\":\"1037\"}},\"id\":\"1041\",\"type\":\"CDSView\"},{\"attributes\":{\"line_alpha\":0.1,\"line_color\":\"#B2DF8A\",\"x\":{\"field\":\"x\"},\"y\":{\"field\":\"y\"}},\"id\":\"1057\",\"type\":\"Line\"},{\"attributes\":{\"line_alpha\":0.1,\"line_color\":\"#A6CEE3\",\"x\":{\"field\":\"x\"},\"y\":{\"field\":\"y\"}},\"id\":\"1039\",\"type\":\"Line\"},{\"attributes\":{},\"id\":\"1021\",\"type\":\"PanTool\"},{\"attributes\":{\"toolbar\":{\"id\":\"1092\"},\"toolbar_location\":\"above\"},\"id\":\"1093\",\"type\":\"ToolbarBox\"},{\"attributes\":{},\"id\":\"1007\",\"type\":\"DataRange1d\"},{\"attributes\":{},\"id\":\"1066\",\"type\":\"UnionRenderers\"},{\"attributes\":{},\"id\":\"1022\",\"type\":\"WheelZoomTool\"},{\"attributes\":{\"data\":{\"x\":[100,200,300,500,800,1000,2000,3000,5000,8000,10000,20000,30000,50000,80000],\"y\":[0.0014541149139404297,0.0010333061218261719,0.0012080669403076172,0.0019462108612060547,0.0029458999633789062,0.003633260726928711,0.006973981857299805,0.008816242218017578,0.015500068664550781,0.02538013458251953,0.03076934814453125,0.06094002723693848,0.08382797241210938,0.13878917694091797,0.2144918441772461]},\"selected\":{\"id\":\"1065\"},\"selection_policy\":{\"id\":\"1066\"}},\"id\":\"1037\",\"type\":\"ColumnDataSource\"},{\"attributes\":{},\"id\":\"1067\",\"type\":\"Selection\"},{\"attributes\":{\"active_drag\":\"auto\",\"active_inspect\":\"auto\",\"active_multi\":null,\"active_scroll\":\"auto\",\"active_tap\":\"auto\",\"tools\":[{\"id\":\"1021\"},{\"id\":\"1022\"},{\"id\":\"1023\"},{\"id\":\"1024\"},{\"id\":\"1025\"},{\"id\":\"1026\"},{\"id\":\"1028\"}]},\"id\":\"1029\",\"type\":\"Toolbar\"},{\"attributes\":{\"overlay\":{\"id\":\"1027\"}},\"id\":\"1023\",\"type\":\"BoxZoomTool\"},{\"attributes\":{\"label\":{\"value\":\"local\"},\"renderers\":[{\"id\":\"1040\"}]},\"id\":\"1049\",\"type\":\"LegendItem\"},{\"attributes\":{},\"id\":\"1068\",\"type\":\"UnionRenderers\"},{\"attributes\":{\"data\":{\"x\":[100,200,300,500,800,1000,2000,3000,5000,8000,10000,20000,30000,50000,80000],\"y\":[0.027678966522216797,0.022787809371948242,0.0201570987701416,0.019936084747314453,0.019878864288330078,0.020009994506835938,0.019706010818481445,0.020267724990844727,0.02091693878173828,0.021129131317138672,0.02340388298034668,0.02861618995666504,0.034046173095703125,0.0418851375579834,0.0546109676361084]},\"selected\":{\"id\":\"1087\"},\"selection_policy\":{\"id\":\"1088\"}},\"id\":\"1071\",\"type\":\"ColumnDataSource\"},{\"attributes\":{},\"id\":\"1024\",\"type\":\"SaveTool\"},{\"attributes\":{\"fill_color\":{\"value\":\"darkgrey\"},\"line_color\":{\"value\":\"darkgrey\"},\"x\":{\"field\":\"x\"},\"y\":{\"field\":\"y\"}},\"id\":\"1051\",\"type\":\"Circle\"},{\"attributes\":{\"line_color\":\"#B2DF8A\",\"x\":{\"field\":\"x\"},\"y\":{\"field\":\"y\"}},\"id\":\"1056\",\"type\":\"Line\"},{\"attributes\":{\"callback\":null,\"tooltips\":[[\"name\",\"$name\"],[\"array size\",\"$x\"],[\"time\",\"$y\"]]},\"id\":\"1028\",\"type\":\"HoverTool\"},{\"attributes\":{\"fill_alpha\":{\"value\":0.1},\"fill_color\":{\"value\":\"darkgrey\"},\"line_alpha\":{\"value\":0.1},\"line_color\":{\"value\":\"darkgrey\"},\"x\":{\"field\":\"x\"},\"y\":{\"field\":\"y\"}},\"id\":\"1073\",\"type\":\"Square\"},{\"attributes\":{},\"id\":\"1025\",\"type\":\"ResetTool\"},{\"attributes\":{\"children\":[[{\"id\":\"1002\"},0,0]]},\"id\":\"1091\",\"type\":\"GridBox\"}],\"root_ids\":[\"1094\"]},\"title\":\"Bokeh Application\",\"version\":\"2.0.1\"}};\n",
       "  var render_items = [{\"docid\":\"652a3193-dcfa-472a-ba36-dd02fddee0bf\",\"root_ids\":[\"1094\"],\"roots\":{\"1094\":\"0a7bf04b-fc25-4342-81c9-4468031ce3be\"}}];\n",
       "  root.Bokeh.embed.embed_items_notebook(docs_json, render_items);\n",
       "\n",
       "  }\n",
       "  if (root.Bokeh !== undefined) {\n",
       "    embed_document(root);\n",
       "  } else {\n",
       "    var attempts = 0;\n",
       "    var timer = setInterval(function(root) {\n",
       "      if (root.Bokeh !== undefined) {\n",
       "        clearInterval(timer);\n",
       "        embed_document(root);\n",
       "      } else {\n",
       "        attempts++;\n",
       "        if (attempts > 100) {\n",
       "          clearInterval(timer);\n",
       "          console.log(\"Bokeh: ERROR: Unable to run BokehJS code because BokehJS library is missing\");\n",
       "        }\n",
       "      }\n",
       "    }, 10, root)\n",
       "  }\n",
       "})(window);"
      ],
      "application/vnd.bokehjs_exec.v0+json": ""
     },
     "metadata": {
      "application/vnd.bokehjs_exec.v0+json": {
       "id": "1094"
      }
     },
     "output_type": "display_data"
    }
   ],
   "source": [
    "import numpy as np\n",
    "\n",
    "from bokeh.layouts import gridplot\n",
    "from bokeh.plotting import figure, output_file, show\n",
    "\n",
    "import bokeh.io\n",
    "# The next two lines prevent Bokeh from opening the graph in a new window.\n",
    "bokeh.io.reset_output()\n",
    "bokeh.io.output_notebook()\n",
    "\n",
    "tooltips = [\n",
    "    (\"name\", \"$name\"),\n",
    "    (\"array size\", \"$x\"),\n",
    "    (\"time\", \"$y\")]\n",
    "p1 = figure(x_axis_type=\"log\", y_axis_type=\"log\", title=\"Execution Times\", tooltips=tooltips)\n",
    "p1.grid.grid_line_alpha=0.3\n",
    "p1.xaxis.axis_label = 'array size'\n",
    "p1.yaxis.axis_label = 'time'\n",
    "\n",
    "p1.line(ns, local_durations, color='#A6CEE3', legend_label='local', name='local')\n",
    "p1.circle(ns, local_durations, color='darkgrey', size=4)\n",
    "p1.line(ns, remote_durations, color='#B2DF8A', legend_label='remote', name='remote')\n",
    "p1.square(ns, remote_durations, color='darkgrey', size=4)\n",
    "p1.legend.location = \"top_left\"\n",
    "\n",
    "show(gridplot([[p1]], plot_width=800, plot_height=400))"
   ]
  },
  {
   "cell_type": "markdown",
   "metadata": {},
   "source": [
    "Here's a static image from a test run, in case the Bokeh plot isn't working. Your results may look a lot different!\n",
    "![Execution Times: Local versus Remote](../images/Execution-Times-Local-v-Remote.png)"
   ]
  },
  {
   "cell_type": "markdown",
   "metadata": {},
   "source": [
    "Let's confirm what the graph shows as the crossing point:"
   ]
  },
  {
   "cell_type": "code",
   "execution_count": 21,
   "metadata": {},
   "outputs": [
    {
     "name": "stdout",
     "output_type": "stream",
     "text": [
      "The Ray times are faster starting at n = 8000, local =  0.025 vs. remote =  0.021\n"
     ]
    }
   ],
   "source": [
    "i=0\n",
    "while i < len(ns) and local_durations[i] < remote_durations[i]:\n",
    "    i=i+1\n",
    "print('The Ray times are faster starting at n = {:d}, local = {:6.3f} vs. remote = {:6.3f}'.format(\n",
    "    ns[i], local_durations[i], remote_durations[i]))"
   ]
  },
  {
   "cell_type": "markdown",
   "metadata": {},
   "source": [
    "## How Distributed Task Management Works\n",
    "\n",
    "> **Note:** If you just want to learn the Ray API, you can safely skip the rest of this lesson (notebook) for now. It continues the exploration of how Ray works internally, which we started in the previous lesson. However, you should come back to this material at some point, so you'll develop a better understanding of how Ray works."
   ]
  },
  {
   "cell_type": "markdown",
   "metadata": {},
   "source": [
    "At the end of the last lesson, we examined Ray task scheduling at a high-level, by watching the Ray Dashboard and analyzing the performance times. Now we'll walk through some images that show the process Ray follows to place tasks around a cluster. "
   ]
  },
  {
   "cell_type": "markdown",
   "metadata": {},
   "source": [
    "Assume we will invoke the `make_array` task twice, then invoke `add_arrays` to sum the returned NumPy arrays. Graphically, it looks as follows:\n",
    "\n",
    "![Ray under the hood 1](../images/Ray-Cluster/Ray-Cluster.001.jpeg)"
   ]
  },
  {
   "cell_type": "markdown",
   "metadata": {},
   "source": [
    "How does this get scheduled in a cluster? Here we'll assume a three-node cluster that has resources for running two Ray worker tasks per node (under powered compared to what we learned using Ray Dashboard last lesson!).\n",
    "![Ray under the hood 2](../images/Ray-Cluster/Ray-Cluster.002.jpeg)"
   ]
  },
  {
   "cell_type": "markdown",
   "metadata": {},
   "source": [
    "First, assume that the driver program is running on Node1. So it will invoke the local scheduler to schedule the three tasks.\n",
    "![Ray under the hood 3](../images/Ray-Cluster/Ray-Cluster.003.jpeg)"
   ]
  },
  {
   "cell_type": "markdown",
   "metadata": {},
   "source": [
    "Immediately the ids for the task futures are returned. The _Global Control Store_ tracks where every task is running and every object is stored in the local _Object Stores_.\n",
    "![Ray under the hood 4](../images/Ray-Cluster/Ray-Cluster.004.jpeg)"
   ]
  },
  {
   "cell_type": "markdown",
   "metadata": {},
   "source": [
    "Suppose the local scheduler has available capacity in the first worker on the same node. It schedules the first `make_array` task there.\n",
    "![Ray under the hood 5](../images/Ray-Cluster/Ray-Cluster.005.jpeg)"
   ]
  },
  {
   "cell_type": "markdown",
   "metadata": {},
   "source": [
    "It decides to schedule the second `make_array` task in a worker on node 2.\n",
    "![Ray under the hood 6](../images/Ray-Cluster/Ray-Cluster.006.jpeg)"
   ]
  },
  {
   "cell_type": "markdown",
   "metadata": {},
   "source": [
    "When the two tasks finish, they place their result objects in their local object stores.\n",
    "![Ray under the hood 7](../images/Ray-Cluster/Ray-Cluster.007.jpeg)"
   ]
  },
  {
   "cell_type": "markdown",
   "metadata": {},
   "source": [
    "Now `add_array` can be scheduled, because the two tasks it depends on are done. Let's suppose it gets scheduled in the second worker on Node 1.\n",
    "![Ray under the hood 8](../images/Ray-Cluster/Ray-Cluster.008.jpeg)"
   ]
  },
  {
   "cell_type": "markdown",
   "metadata": {},
   "source": [
    "The first object it needs is already on the same node, in the object store, so the `add_arrays` task can _read it directly from shared memory_. No copying is required to the worker's process space.\n",
    "![Ray under the hood 9](../images/Ray-Cluster/Ray-Cluster.009.jpeg)"
   ]
  },
  {
   "cell_type": "markdown",
   "metadata": {},
   "source": [
    "However, the second object is on a different node, so Ray copies it to the local object store. \n",
    "![Ray under the hood 10](../images/Ray-Cluster/Ray-Cluster.010.jpeg)"
   ]
  },
  {
   "cell_type": "markdown",
   "metadata": {},
   "source": [
    "Now it can also be read from shared memory.\n",
    "![Ray under the hood 11](../images/Ray-Cluster/Ray-Cluster.011.jpeg)"
   ]
  },
  {
   "cell_type": "markdown",
   "metadata": {},
   "source": [
    "When `add_arrays` is finished, it writes its results to the local object store.\n",
    "![Ray under the hood 12](../images/Ray-Cluster/Ray-Cluster.012.jpeg)"
   ]
  },
  {
   "cell_type": "markdown",
   "metadata": {},
   "source": [
    "At this point, if the driver calls `ray.get(id3)`, it will return `obj3`.\n",
    "![Ray under the hood 13](../images/Ray-Cluster/Ray-Cluster.013.jpeg)"
   ]
  },
  {
   "cell_type": "markdown",
   "metadata": {},
   "source": [
    "Whew! Hopefully you have a better sense of what Ray does under the hood. Scheduling tasks on other nodes and copying objects between object stores is efficient, but incurs unavoidable network overhead."
   ]
  }
 ],
 "metadata": {
  "kernelspec": {
   "display_name": "Python 3",
   "language": "python",
   "name": "python3"
  },
  "language_info": {
   "codemirror_mode": {
    "name": "ipython",
    "version": 3
   },
   "file_extension": ".py",
   "mimetype": "text/x-python",
   "name": "python",
   "nbconvert_exporter": "python",
   "pygments_lexer": "ipython3",
   "version": "3.7.6"
  },
  "toc": {
   "base_numbering": 1,
   "nav_menu": {},
   "number_sections": false,
   "sideBar": true,
   "skip_h1_title": false,
   "title_cell": "Table of Contents",
   "title_sidebar": "Contents",
   "toc_cell": false,
   "toc_position": {
    "height": "calc(100% - 180px)",
    "left": "10px",
    "top": "150px",
    "width": "382.391px"
   },
   "toc_section_display": true,
   "toc_window_display": true
  }
 },
 "nbformat": 4,
 "nbformat_minor": 4
}
